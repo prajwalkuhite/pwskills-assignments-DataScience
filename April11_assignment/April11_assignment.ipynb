{
 "cells": [
  {
   "cell_type": "markdown",
   "id": "3aa9d073-ce69-4b65-b9bd-4ce74181d64f",
   "metadata": {},
   "source": [
    "# Q1. What is an ensemble technique in machine learning?"
   ]
  },
  {
   "cell_type": "markdown",
   "id": "a770ca47-3a77-4064-950f-755df4d3278e",
   "metadata": {},
   "source": [
    "In machine learning, an ensemble technique is a method that combines multiple models to improve the overall accuracy and robustness of the predictions. The idea behind an ensemble technique is that multiple models, each with their strengths and weaknesses, can work together to produce a more accurate prediction than any individual model.\n",
    "\n",
    "There are several types of ensemble techniques, but some of the most common ones are:\n",
    "\n",
    "1. Bagging: It involves creating multiple models using the same algorithm but different subsets of the training data. The final prediction is then made by taking the average of the predictions made by each of the models.\n",
    "\n",
    "2. Boosting: It is a technique in which a series of weak models are trained sequentially, and each subsequent model focuses on the samples that were misclassified by the previous model. The final prediction is made by taking a weighted average of the predictions made by each of the models.\n",
    "\n",
    "3. Stacking: It involves training several different models and then combining them into a new model. The output of the different models is used as input for the new model, which learns how to combine the predictions from the base models to make a final prediction.\n",
    "\n",
    "Ensemble techniques can improve the accuracy and generalization of machine learning models, and they are commonly used in competitions and real-world applications. However, they also require more computational resources and can be more complex to implement than single-model approaches."
   ]
  },
  {
   "cell_type": "code",
   "execution_count": null,
   "id": "a090f9e0-9484-453d-966c-6be4dd5d4721",
   "metadata": {},
   "outputs": [],
   "source": []
  },
  {
   "cell_type": "markdown",
   "id": "8340b692-5092-4e43-a1af-0794185d1911",
   "metadata": {},
   "source": [
    "# Q2. Why are ensemble techniques used in machine learning?"
   ]
  },
  {
   "cell_type": "markdown",
   "id": "a0f95161-b3dc-435b-a04c-dc9e5d577c51",
   "metadata": {},
   "source": [
    "Ensemble techniques are used in machine learning for several reasons, including:\n",
    "\n",
    "1. Improved accuracy: Ensemble techniques can improve the accuracy of machine learning models by reducing overfitting and increasing the robustness of the predictions. By combining multiple models with different strengths and weaknesses, an ensemble can achieve better overall performance than any individual model.\n",
    "\n",
    "2. Generalization: Ensemble techniques can help to improve the generalization of machine learning models, making them more effective in predicting new, unseen data. This is because ensembles can capture different aspects of the data and make more robust predictions.\n",
    "\n",
    "3. Robustness: Ensemble techniques can increase the robustness of machine learning models by reducing the impact of outliers or noisy data points. By combining multiple models, an ensemble can make more accurate predictions even in the presence of these challenges.\n",
    "\n",
    "4. Flexibility: Ensemble techniques are flexible and can be applied to a wide range of machine learning problems and algorithms. This means that they can be used to improve the performance of many different types of models, including decision trees, neural networks, and support vector machines."
   ]
  },
  {
   "cell_type": "code",
   "execution_count": null,
   "id": "38959bc8-3ccf-46bc-be37-5d1be8479b00",
   "metadata": {},
   "outputs": [],
   "source": []
  },
  {
   "cell_type": "markdown",
   "id": "71f7e579-2b4c-4413-ace2-b999f816d3ab",
   "metadata": {},
   "source": [
    "# Q3. What is bagging?"
   ]
  },
  {
   "cell_type": "markdown",
   "id": "d4641b04-a9f2-4cf8-8e1d-2879d16f4079",
   "metadata": {},
   "source": [
    "Bagging, short for bootstrap aggregating, is an ensemble technique in machine learning that involves creating multiple models trained on different subsets of the training data, and then combining the predictions made by each model to produce a final prediction. The idea behind bagging is to reduce the variance of the predictions by creating multiple models that are less sensitive to small variations in the training data.\n",
    "\n",
    "The bagging process typically involves the following steps:\n",
    "\n",
    "1. Randomly select subsets of the training data with replacement, so that each subset has the same size as the original training data.\n",
    "\n",
    "2. Train a separate model on each subset of the training data using the same machine learning algorithm.\n",
    "\n",
    "3. Combine the predictions made by each model, either by taking the average (for regression problems) or by using a voting scheme (for classification problems).\n",
    "\n",
    "4. Make a final prediction based on the combined predictions.\n",
    "\n",
    "The advantage of bagging is that it can help to reduce overfitting by creating multiple models that have less variance than a single model trained on the entire dataset. This can lead to better generalization performance, especially when the training data is noisy or contains outliers. Bagging is commonly used with decision trees, but it can be applied to many other types of machine learning algorithms as well."
   ]
  },
  {
   "cell_type": "code",
   "execution_count": null,
   "id": "b5afbd3e-8b18-47ad-8470-4fc5ad6c6f54",
   "metadata": {},
   "outputs": [],
   "source": []
  },
  {
   "cell_type": "markdown",
   "id": "d49e9996-cc19-481b-b2cf-eba929e8bd9d",
   "metadata": {},
   "source": [
    "# Q4. What is boosting?"
   ]
  },
  {
   "cell_type": "markdown",
   "id": "fc79ed71-1f83-4e04-bee5-cc3fdda8cf48",
   "metadata": {},
   "source": [
    "Boosting is an ensemble technique in machine learning that involves iteratively training a sequence of weak models, with each model focusing on the examples that were misclassified by the previous model. The predictions of each model are then combined to produce the final prediction.\n",
    "\n",
    "The basic idea behind boosting is to iteratively improve the overall prediction by focusing on the examples that are difficult to classify. The weak models in the ensemble are typically simple models, such as decision trees, that are trained on a subset of the training data. The models are then combined using a weighted sum, where the weights are adjusted at each iteration to give more weight to the models that perform well on the training data.\n",
    "\n",
    "Boosting can be thought of as a form of adaptive weighting, where the weights of the examples in the training data are adjusted based on their difficulty to classify. Examples that are difficult to classify are given higher weights, while examples that are easy to classify are given lower weights. This allows the weak models to focus on the examples that are most important for improving the overall prediction.\n",
    "\n",
    "Boosting has been shown to be very effective in many applications of machine learning, particularly in areas such as computer vision, natural language processing, and speech recognition. It is often used with decision trees, but can also be used with other types of models, such as neural networks and support vector machines."
   ]
  },
  {
   "cell_type": "code",
   "execution_count": null,
   "id": "f8bc4e61-b911-45b5-b8bc-5c4f37ae71fe",
   "metadata": {},
   "outputs": [],
   "source": []
  },
  {
   "cell_type": "markdown",
   "id": "9ab6fc7a-394b-4660-8eec-6aa9c84ff3ae",
   "metadata": {},
   "source": [
    "# Q5. What are the benefits of using ensemble techniques?"
   ]
  },
  {
   "cell_type": "markdown",
   "id": "4f6db318-b67b-4b42-8203-f51ed520cdd4",
   "metadata": {},
   "source": [
    "There are several benefits to using ensemble techniques in machine learning, including:\n",
    "\n",
    "1. Improved accuracy: Ensemble techniques can improve the accuracy of machine learning models by combining multiple models, each with their strengths and weaknesses. This can help to reduce overfitting and increase the robustness of the predictions.\n",
    "\n",
    "2. Generalization: Ensemble techniques can help to improve the generalization of machine learning models by making them more effective at predicting new, unseen data. By combining multiple models, an ensemble can capture different aspects of the data and make more robust predictions.\n",
    "\n",
    "3. Robustness: Ensemble techniques can increase the robustness of machine learning models by reducing the impact of outliers or noisy data points. By combining multiple models, an ensemble can make more accurate predictions even in the presence of these challenges.\n",
    "\n",
    "4. Flexibility: Ensemble techniques are flexible and can be applied to a wide range of machine learning problems and algorithms. This means that they can be used to improve the performance of many different types of models, including decision trees, neural networks, and support vector machines.\n",
    "\n",
    "5. Better model interpretability: Ensemble techniques can sometimes provide better model interpretability, especially if the ensemble is made up of simpler models such as decision trees. This can help to provide insights into how the model is making its predictions."
   ]
  },
  {
   "cell_type": "code",
   "execution_count": null,
   "id": "202abd6a-5269-4c73-92fc-13cc8a5f8ad5",
   "metadata": {},
   "outputs": [],
   "source": []
  },
  {
   "cell_type": "markdown",
   "id": "5db1e84a-6402-4638-975a-816b767c921d",
   "metadata": {},
   "source": [
    "# Q6. Are ensemble techniques always better than individual models?"
   ]
  },
  {
   "cell_type": "markdown",
   "id": "219be244-061f-42a2-a901-48fd8cd1b139",
   "metadata": {},
   "source": [
    "Ensemble techniques are not always better than individual models. While ensemble techniques can improve the accuracy, robustness, and generalization performance of models, there are cases where they may not be effective.\n",
    "\n",
    "For example, if the individual models in the ensemble are very similar to each other, then the ensemble may not provide much benefit over a single model. Additionally, if the individual models are very complex and overfit the training data, then the ensemble may also overfit the data and not generalize well to new data.\n",
    "\n",
    "Furthermore, ensemble techniques can be computationally expensive and may require more resources to train and deploy compared to individual models.\n",
    "\n",
    "Therefore, it is important to carefully evaluate the effectiveness of ensemble techniques in a given application and compare their performance against individual models before deciding to use them. It is also important to consider the computational cost and feasibility of implementing ensemble techniques in the given application."
   ]
  },
  {
   "cell_type": "code",
   "execution_count": null,
   "id": "097043a2-0850-4684-9425-361af1c7ec8e",
   "metadata": {},
   "outputs": [],
   "source": []
  },
  {
   "cell_type": "markdown",
   "id": "a85ef5e5-8c98-4ed0-a8da-98702c383b3a",
   "metadata": {},
   "source": [
    "# Q7. How is the confidence interval calculated using bootstrap?"
   ]
  },
  {
   "cell_type": "markdown",
   "id": "4e4325b1-e9ba-492f-8007-d7802b659b3a",
   "metadata": {},
   "source": [
    "### The confidence interval can be calculated using the bootstrap method in the following way:\n",
    "\n",
    "1. Randomly sample the original dataset with replacement to create a new dataset of the same size as the original dataset. This is called a bootstrap sample.\n",
    "\n",
    "2. Compute the statistic of interest, such as the mean or median, on the bootstrap sample.\n",
    "\n",
    "3. Repeat steps 1 and 2 many times, typically several thousand times, to generate a large number of bootstrap samples and their corresponding statistics.\n",
    "\n",
    "4. Calculate the standard error of the statistic using the bootstrap samples. This is an estimate of the variability of the statistic.\n",
    "\n",
    "5. Use the standard error to calculate the confidence interval using the desired level of confidence and a normal distribution or t-distribution, depending on the sample size and assumptions.\n",
    "\n",
    "### For example, suppose we want to calculate the 95% confidence interval for the mean of a dataset. We can use the bootstrap method to estimate the standard error of the mean and then calculate the confidence interval using a normal distribution. The steps would be as follows:\n",
    "\n",
    "1. Randomly sample the original dataset with replacement to create a new dataset of the same size as the original dataset. Repeat this process many times, such as 10,000 times, to create a large number of bootstrap samples.\n",
    "\n",
    "2. Calculate the mean of each bootstrap sample.\n",
    "\n",
    "3. Compute the standard error of the mean using the bootstrap samples. This is typically calculated as the standard deviation of the bootstrap sample means.\n",
    "\n",
    "4. Calculate the lower and upper bounds of the confidence interval using the standard error and a normal distribution. For example, if the standard error is 0.1 and we want a 95% confidence interval, we would use a z-score of 1.96 (the z-score corresponding to the 97.5th percentile of a standard normal distribution) and calculate the confidence interval as: mean +/- zstandard error = mean +/- 1.96*std_error\n",
    "\n",
    "5. The resulting confidence interval would be the range of values from the lower bound to the upper bound."
   ]
  },
  {
   "cell_type": "code",
   "execution_count": null,
   "id": "bd51f534-8575-4e98-bb36-bdda8925ac77",
   "metadata": {},
   "outputs": [],
   "source": []
  },
  {
   "cell_type": "markdown",
   "id": "68163168-745a-4c38-b11e-b29ccd338406",
   "metadata": {},
   "source": [
    "# Q8. How does bootstrap work and What are the steps involved in bootstrap?"
   ]
  },
  {
   "cell_type": "markdown",
   "id": "75be271f-f28b-486a-826b-ad7113593096",
   "metadata": {},
   "source": [
    "Bootstrap is a statistical technique that involves resampling the original dataset with replacement to obtain multiple bootstrap samples, which are then used to estimate the variability of a statistic or to construct confidence intervals. The basic steps involved in the bootstrap technique are as follows:\n",
    "\n",
    "1. Select a random sample of size n with replacement from the original dataset. This is the bootstrap sample.\n",
    "\n",
    "2. Calculate the statistic of interest (e.g., mean, median, variance) for the bootstrap sample.\n",
    "\n",
    "3. Repeat steps 1 and 2 a large number of times (e.g., 1000 or 10000) to obtain multiple bootstrap samples and their corresponding statistics.\n",
    "\n",
    "4. Calculate the standard error of the bootstrap statistics, which is an estimate of the variability of the statistic of interest in the population.\n",
    "\n",
    "5. Construct a confidence interval for the population parameter of interest using the bootstrap distribution of the statistic.\n",
    "\n",
    "The basic idea behind bootstrap is that the distribution of the statistic of interest for the bootstrap samples approximates the distribution of the statistic in the population. By obtaining multiple bootstrap samples and calculating the corresponding statistics, we can estimate the variability of the statistic in the population and construct a confidence interval that captures the uncertainty associated with our estimate."
   ]
  },
  {
   "cell_type": "code",
   "execution_count": null,
   "id": "000fac57-7a9f-49f5-a4b9-4dbc45ed7014",
   "metadata": {},
   "outputs": [],
   "source": []
  },
  {
   "cell_type": "markdown",
   "id": "7b40de7c-af61-46eb-a96b-0cbe79841267",
   "metadata": {},
   "source": [
    "# Q9. A researcher wants to estimate the mean height of a population of trees. They measure the height of a sample of 50 trees and obtain a mean height of 15 meters and a standard deviation of 2 meters. Use bootstrap to estimate the 95% confidence interval for the population mean height."
   ]
  },
  {
   "cell_type": "code",
   "execution_count": 3,
   "id": "629e8429-e631-40cd-9c1b-aa78644cc46e",
   "metadata": {},
   "outputs": [
    {
     "name": "stdout",
     "output_type": "stream",
     "text": [
      "I am 95% sure that my confidence interval is between 14.431606289755253 and 15.568393710244747\n"
     ]
    }
   ],
   "source": [
    "# we have\n",
    "CI = 0.95\n",
    "sample_mean = 15\n",
    "sample_std = 2\n",
    "alpha = 1-0.95\n",
    "n = 50  \n",
    "dof = n-1\n",
    "\n",
    "\n",
    "import scipy.stats as stat\n",
    "import math\n",
    "## Now,\n",
    "t_value = stat.t.ppf(1-alpha/2,dof)\n",
    "\n",
    "## Putting values in formula for upper bound and lower bound\n",
    "upper_CI = sample_mean + t_value*(sample_std/math.sqrt(n))\n",
    "lower_CI = sample_mean - t_value*(sample_std/math.sqrt(n))\n",
    "\n",
    "print(f\"I am 95% sure that my confidence interval is between {lower_CI} and {upper_CI}\")"
   ]
  },
  {
   "cell_type": "code",
   "execution_count": null,
   "id": "a2ec366f-14bb-4235-8d86-d1f50fa30a9e",
   "metadata": {},
   "outputs": [],
   "source": []
  }
 ],
 "metadata": {
  "kernelspec": {
   "display_name": "Python 3 (ipykernel)",
   "language": "python",
   "name": "python3"
  },
  "language_info": {
   "codemirror_mode": {
    "name": "ipython",
    "version": 3
   },
   "file_extension": ".py",
   "mimetype": "text/x-python",
   "name": "python",
   "nbconvert_exporter": "python",
   "pygments_lexer": "ipython3",
   "version": "3.10.6"
  }
 },
 "nbformat": 4,
 "nbformat_minor": 5
}
