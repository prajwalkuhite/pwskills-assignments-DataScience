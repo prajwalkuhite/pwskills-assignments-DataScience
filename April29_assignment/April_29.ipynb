{
 "cells": [
  {
   "cell_type": "markdown",
   "id": "4f63c6d4-07e3-4094-a06c-5e1e24e58de1",
   "metadata": {},
   "source": [
    "# Q1. Explain the basic concept of clustering and give examples of applications where clustering is useful."
   ]
  },
  {
   "cell_type": "markdown",
   "id": "4f108085-b941-45ca-a97b-c62e6e29f1b0",
   "metadata": {},
   "source": [
    "Clustering is a fundamental technique in unsupervised machine learning used to group similar objects together based on their inherent characteristics or patterns. The goal of clustering is to identify natural groupings or clusters within a dataset without prior knowledge of the group labels. The process involves partitioning the data points into subsets, where objects within the same subset are more similar to each other than to those in other subsets.\n",
    "\n",
    "#### The basic concept of clustering involves the following steps:\n",
    "\n",
    "1. `Data representation`: The dataset is represented as a collection of objects, each described by a set of attributes or features. These features can be numerical, categorical, or even a combination of both.\n",
    "\n",
    "2. `Similarity measurement`: A similarity or distance metric is defined to quantify the similarity or dissimilarity between pairs of objects based on their feature values. Common metrics include Euclidean distance, Manhattan distance, cosine similarity, or Jaccard coefficient, among others.\n",
    "\n",
    "3. `Clustering algorithm`: A clustering algorithm is applied to the dataset, which iteratively groups the objects based on their similarity. The algorithm aims to optimize an objective function, such as minimizing the intra-cluster distance while maximizing the inter-cluster distance.\n",
    "\n",
    "4. `Evaluation and interpretation`: The resulting clusters are evaluated and interpreted to gain insights or make decisions based on the patterns observed within each cluster.\n",
    "\n",
    "#### Applications of clustering span various domains and industries. Here are a few examples:\n",
    "\n",
    "1. `Customer segmentation`: Clustering can be used to group customers based on their purchasing behavior, demographics, or preferences. This information helps businesses tailor their marketing strategies and create targeted campaigns for different customer segments.\n",
    "\n",
    "2. `Image segmentation`: Clustering is employed to segment images into meaningful regions based on similarities in color, texture, or other visual features. This is useful in computer vision tasks, object recognition, and image analysis.\n",
    "\n",
    "3. `Anomaly detection`: Clustering can help identify outliers or anomalies in a dataset. By clustering normal patterns, any data point that does not belong to any cluster can be considered an anomaly, which is valuable for fraud detection, network intrusion detection, or fault diagnosis.\n",
    "\n",
    "4. `Recommendation systems`: Clustering can be applied to group users or items based on their preferences or behavior, facilitating personalized recommendations in e-commerce, content streaming platforms, or social networks."
   ]
  },
  {
   "cell_type": "code",
   "execution_count": null,
   "id": "2435c1c2-9f26-410d-92b5-7c730be401c7",
   "metadata": {},
   "outputs": [],
   "source": []
  },
  {
   "cell_type": "markdown",
   "id": "6952c682-ea62-4ebe-b156-68a5985f12b1",
   "metadata": {},
   "source": [
    "# Q2. What is DBSCAN and how does it differ from other clustering algorithms such as k-means and hierarchical clustering?"
   ]
  },
  {
   "cell_type": "markdown",
   "id": "dbb45713-0c03-4ec7-bf4e-c0a3d66ab024",
   "metadata": {},
   "source": [
    "### DBSCAN (Density-Based Spatial Clustering of Applications with Noise) is a density-based clustering algorithm that groups together data points based on their density and proximity. Unlike k-means and hierarchical clustering, DBSCAN does not require a predefined number of clusters and can discover clusters of arbitrary shapes and sizes. Here's how DBSCAN differs from other clustering algorithms:\n",
    "\n",
    "<style>\n",
    "th {\n",
    "    background-color: #f2f2f2;\n",
    "    color: blue;\n",
    "}\n",
    "</style>\n",
    "| Clustering Algorithm | DBSCAN                            | k-means                          | Hierarchical Clustering         |\n",
    "|----------------------|-----------------------------------|----------------------------------|---------------------------------|\n",
    "| Type                 | Density-based                     | Centroid-based                   | Agglomerative or Divisive       |\n",
    "| Number of Clusters   | Automatically determined          | Predefined                       | Depends on dendrogram           |\n",
    "| Handling Outliers    | Distinguishes noise points         | All points belong to a cluster   | Depends on linkage criterion    |\n",
    "| Cluster Shape        | Handles clusters of arbitrary shape | Assumes spherical clusters      | Depends on linkage criterion    |\n",
    "| Cluster Size         | Handles clusters of varying sizes  | Assumes clusters of similar size | Depends on linkage criterion    |\n",
    "| Distance Metric      | Can handle various distance metrics | Euclidean distance               | Depends on linkage criterion    |\n",
    "| Scalability          | Works well with large datasets     | Sensitive to dataset size        | Sensitive to dataset size       |\n",
    "| Interpretability     | Provides interpretable clusters   | Cluster centroids represent     | Hierarchical structure         |\n",
    "|                      |                                   | cluster centers                  |                                 |\n",
    "| Pros                 | Handles arbitrary shapes and sizes | Simplicity and efficiency        | Hierarchical structure          |\n",
    "|                      | Works well with varying densities  | Easily interpretable results     | Flexibility at different scales |\n",
    "| Cons                 | Sensitive to parameter settings    | Assumes spherical clusters       | Computationally expensive       |\n",
    "|                      | May struggle with high-dimensionality | Requires predefined number of clusters | Sensitive to data ordering |\n",
    "|                      |                                   | May converge to local optima     |                                 |\n"
   ]
  },
  {
   "cell_type": "code",
   "execution_count": null,
   "id": "64b2909d-92ec-452d-9164-1c2c650d1873",
   "metadata": {},
   "outputs": [],
   "source": []
  },
  {
   "cell_type": "markdown",
   "id": "7afd7c2b-cf46-4a15-8ae4-41cf6a9b49ee",
   "metadata": {},
   "source": [
    "# Q3. How do you determine the optimal values for the epsilon and minimum points parameters in DBSCAN clustering?"
   ]
  },
  {
   "cell_type": "markdown",
   "id": "5365af87-519e-4816-afd5-c6f881f81ebc",
   "metadata": {},
   "source": [
    "Determining the optimal values for the epsilon (ε) and minimum points (MinPts) parameters in DBSCAN clustering can significantly impact the clustering results. Here are some approaches and considerations for selecting these parameters:\n",
    "\n",
    "1. `Domain knowledge`: It is essential to have a good understanding of the data and the problem domain. Consider the nature of the data, the expected density of clusters, and the desired granularity of the clusters. Domain knowledge can provide valuable insights for setting reasonable ranges or initial estimates for ε and MinPts.\n",
    "\n",
    "2. `Visual analysis`: Visualizing the data can help identify appropriate parameter values. Plot the data points and explore different values of ε to observe the cluster formations. Look for regions where clusters start to form and where points become isolated as noise. Adjust ε to capture the desired cluster sizes and shapes. Additionally, observe the influence of varying MinPts on the cluster assignments.\n",
    "\n",
    "3. `Reachability distance plot`: Compute the reachability distance for each point, which represents the minimum distance to reach other points within ε. Plotting the reachability distances in ascending order can help identify a suitable ε value. Look for the \"knee\" or significant changes in the slope of the curve. This knee point indicates a transition from core points to noise points and can be used to estimate ε.\n",
    "\n",
    "4. `Neighborhood density analysis`: Analyze the density distribution of the data points to determine a suitable MinPts value. Calculate the average or median distance to the k-nearest neighbors for each point. Plotting these distances in descending order can reveal a suitable MinPts value where the distance significantly increases, indicating a transition from core points to non-core points.\n",
    "\n",
    "5. `Grid search and evaluation`: Perform a grid search over a range of parameter values to evaluate the clustering results. Use external validation metrics like silhouette coefficient, Davies-Bouldin index, or connectivity-based clustering index to assess the quality of the clusters for different parameter combinations. Select the parameter values that yield the best clustering performance.\n",
    "\n",
    "6. `Trial and error`: Experiment with different combinations of parameter values and evaluate the resulting clusters. Iteratively refine the values based on the clustering quality and the desired characteristics of the clusters. Adjustments may be necessary to strike a balance between capturing meaningful clusters and avoiding overfitting or underfitting."
   ]
  },
  {
   "cell_type": "code",
   "execution_count": null,
   "id": "dd735fe4-ba44-4945-b749-cfe2b2de9b21",
   "metadata": {},
   "outputs": [],
   "source": []
  },
  {
   "cell_type": "markdown",
   "id": "64a4beac-e64d-4d60-ba65-e457a8088f9d",
   "metadata": {},
   "source": [
    "# Q4. How does DBSCAN clustering handle outliers in a dataset?"
   ]
  },
  {
   "cell_type": "markdown",
   "id": "9e869846-a568-4a5b-ad8b-5f6c51eeecd0",
   "metadata": {},
   "source": [
    "DBSCAN (Density-Based Spatial Clustering of Applications with Noise) is a clustering algorithm that is capable of handling outliers in a dataset. Here's how DBSCAN handles outliers:\n",
    "\n",
    "1. Core points: In DBSCAN, a core point is defined as a data point that has a sufficient number of neighboring points within a specified radius (epsilon, ε). These neighboring points are required to be at least the minimum number of points (MinPts). Core points are considered to be the central points of clusters.\n",
    "\n",
    "2. Border points: A border point is a data point that has fewer neighboring points than the MinPts threshold within ε but falls within the neighborhood of a core point. Border points are on the periphery of clusters and are not dense enough to be core points.\n",
    "\n",
    "3. Noise points (outliers): Noise points, or outliers, are data points that do not satisfy the conditions of being either core or border points. These are points that are located in regions of low density and are not part of any cluster.\n",
    "\n",
    "During the DBSCAN clustering process:\n",
    "\n",
    "* Core points and their connected neighbors form a cluster.\n",
    "* Border points are assigned to the cluster of their corresponding core point.\n",
    "* Noise points remain unassigned and are labeled as outliers.\n",
    "\n",
    "As a result, DBSCAN naturally identifies and handles outliers by assigning them to a separate cluster or marking them as noise points. The algorithm's ability to differentiate noise from dense regions is beneficial in scenarios where the presence of outliers is expected or needs to be identified."
   ]
  },
  {
   "cell_type": "code",
   "execution_count": null,
   "id": "d40233d9-0b73-4ec4-8b35-3d23160524f4",
   "metadata": {},
   "outputs": [],
   "source": []
  },
  {
   "cell_type": "markdown",
   "id": "48378db3-7c43-4479-8219-679f32a6c65d",
   "metadata": {},
   "source": [
    "# Q5. How does DBSCAN clustering differ from k-means clustering?"
   ]
  },
  {
   "cell_type": "markdown",
   "id": "74340ac3-9e56-4361-8848-3ce4c935aa39",
   "metadata": {},
   "source": [
    "### The key differences between DBSCAN and k-means clustering:\n",
    "\n",
    "### 1. Algorithm Type:\n",
    "* `DBSCAN`: DBSCAN is a density-based clustering algorithm. It groups together data points based on the density of points in the feature space.\n",
    "* `k-means`: k-means is a centroid-based clustering algorithm. It partitions data points into a pre-defined number of clusters based on minimizing the within-cluster sum of squared distances to centroids.\n",
    "\n",
    "### 2. Number of Clusters:\n",
    "* `DBSCAN:` DBSCAN does not require specifying the number of clusters beforehand. It automatically determines the number of clusters based on the density connectivity of the data points. It can discover clusters of arbitrary shapes and sizes.\n",
    "* `k-means`: k-means requires the number of clusters (k) to be predefined before the algorithm is applied. The user needs to specify the desired number of clusters in advance.\n",
    "\n",
    "### 3. Cluster Shape and Size:\n",
    "* `DBSCAN:` DBSCAN can handle clusters of arbitrary shapes and sizes. It can detect clusters with irregular shapes, non-linear boundaries, and varying densities. It is effective in identifying dense regions separated by sparse regions, making it suitable for complex clustering scenarios.\n",
    "* `k-means`: k-means assumes that clusters are spherical and of equal size. It assigns data points to the closest centroid based on distance. Consequently, k-means is suitable for datasets where clusters are relatively well-defined and have a similar variance.\n",
    "\n",
    "### 4. Handling Outliers:\n",
    "* `DBSCAN:` DBSCAN has a built-in capability to handle outliers. It distinguishes outliers as noise points that do not belong to any cluster. It assigns them a separate label, allowing for the identification and exclusion of noisy data points.\n",
    "* `k-means`: k-means does not explicitly handle outliers. Outliers can significantly affect the centroids' positions and distort the cluster assignments, leading to suboptimal results. Preprocessing steps or additional techniques are typically required to handle outliers effectively in k-means.\n",
    "\n",
    "### 5. Parameter Sensitivity:\n",
    "* `DBSCAN:` DBSCAN has two primary parameters: epsilon (ε), which defines the radius around each point to determine its neighborhood, and the minimum number of points (MinPts) required within the epsilon radius to consider a point as a core point. The choice of these parameters can impact the clustering results, and selecting appropriate values is crucial.\n",
    "* `k-means`: k-means has a single parameter, the number of clusters (k), that needs to be defined. Selecting the right k value can be challenging and often requires domain knowledge or trial-and-error approaches."
   ]
  },
  {
   "cell_type": "code",
   "execution_count": null,
   "id": "fe11ce85-757f-431d-a2b4-54ef963f2ba2",
   "metadata": {},
   "outputs": [],
   "source": []
  },
  {
   "cell_type": "markdown",
   "id": "851e3df8-174a-4b80-9880-16a5bff17a45",
   "metadata": {},
   "source": [
    "# Q6. Can DBSCAN clustering be applied to datasets with high dimensional feature spaces? If so, what are some potential challenges?"
   ]
  },
  {
   "cell_type": "markdown",
   "id": "bd8fb607-bea5-4a83-a831-bd512e041e2c",
   "metadata": {},
   "source": [
    "DBSCAN clustering can be applied to datasets with high-dimensional feature spaces, but there are some potential challenges associated with using DBSCAN in such scenarios. Here are a few considerations:\n",
    "\n",
    "1. `Curse of dimensionality`: High-dimensional spaces suffer from the curse of dimensionality, where the density of data points becomes sparse as the number of dimensions increases. In such cases, the concept of density in DBSCAN may become less effective, as points are more likely to be far apart in high-dimensional spaces, making it harder to define meaningful density neighborhoods.\n",
    "\n",
    "2. `Distance metric selection`: The choice of an appropriate distance metric becomes crucial in high-dimensional spaces. Traditional distance measures such as Euclidean distance may be less reliable as the distance between points tends to become more uniform and less informative. It may be necessary to explore alternative distance metrics or dimensionality reduction techniques to mitigate this issue.\n",
    "\n",
    "3. `Determining parameter values`: The selection of appropriate parameter values, such as epsilon (ε) and minimum points (MinPts), becomes more challenging in high-dimensional spaces. Determining an appropriate epsilon value becomes more difficult due to the increased distance variation across dimensions. Additionally, the definition of what constitutes a sufficient number of neighboring points (MinPts) may need to be adjusted in high-dimensional spaces.\n",
    "\n",
    "4. `Dimensionality reduction`: Applying dimensionality reduction techniques before running DBSCAN can help alleviate the challenges of high-dimensional spaces. Dimensionality reduction methods like PCA (Principal Component Analysis) or t-SNE (t-Distributed Stochastic Neighbor Embedding) can reduce the number of dimensions while preserving meaningful patterns in the data. This can enhance the effectiveness of DBSCAN and improve the clustering results.\n",
    "\n",
    "5. `Feature selection`: In high-dimensional spaces, it is often beneficial to perform feature selection to reduce the dimensionality by identifying the most informative features. Feature selection can help eliminate noisy or irrelevant features that might hinder clustering performance.\n",
    "\n",
    "6. `Visualization difficulties`: Visualizing clusters in high-dimensional spaces becomes challenging due to the limitations of human perception. While dimensionality reduction techniques can aid in visualization, it may still be difficult to represent high-dimensional clusters accurately.\n",
    "\n",
    "Overall, while DBSCAN can be applied to datasets with high-dimensional feature spaces, challenges such as the curse of dimensionality, appropriate distance metric selection, determining parameter values, and visualization difficulties need to be addressed to achieve meaningful clustering results. Preprocessing techniques like dimensionality reduction and feature selection can help mitigate these challenges and improve the effectiveness of DBSCAN in high-dimensional data analysis."
   ]
  },
  {
   "cell_type": "code",
   "execution_count": null,
   "id": "4fe17fc4-e612-4917-b3fd-bc8d901388be",
   "metadata": {},
   "outputs": [],
   "source": []
  },
  {
   "cell_type": "markdown",
   "id": "7c733e26-6d65-4905-b7c5-f9715208fc5c",
   "metadata": {},
   "source": [
    "# Q7. How does DBSCAN clustering handle clusters with varying densities?"
   ]
  },
  {
   "cell_type": "markdown",
   "id": "2b9a8e2d-bb22-4e86-b351-d1e55202f9d1",
   "metadata": {},
   "source": [
    "DBSCAN (Density-Based Spatial Clustering of Applications with Noise) clustering algorithm is well-suited for handling clusters with varying densities. Here's how DBSCAN handles clusters with different densities:\n",
    "\n",
    "1. `Density-Based Definition`: DBSCAN defines clusters based on density. It considers a data point to be part of a cluster if it has a sufficient number of neighboring points within a specified radius, called epsilon (ε). This definition allows DBSCAN to capture clusters of varying densities.\n",
    "\n",
    "2. `Core Points`: In DBSCAN, a core point is a data point that has a minimum number of neighboring points (minimum points) within the epsilon radius. Core points are at the center of dense regions and represent the core of a cluster. They form the foundation of cluster identification in DBSCAN.\n",
    "\n",
    "3. `Direct Density-Reachability`: DBSCAN uses the notion of direct density-reachability to connect points within a cluster. A point is considered directly density-reachable from another point if it is within the epsilon radius and meets the minimum points requirement. This allows DBSCAN to capture dense regions and connect data points within clusters, even if the densities vary.\n",
    "\n",
    "4. `Border Points`: Border points are data points that have fewer neighboring points than the minimum points threshold but are within the epsilon radius of a core point. Border points are still part of the cluster but are not as densely connected as core points. They help in expanding the clusters and accommodating varying densities.\n",
    "\n",
    "5. `Noise Points/Outliers`: DBSCAN explicitly identifies noise points, which are data points that do not meet the criteria to be classified as core or border points. These points do not belong to any cluster and are considered as noise or outliers. By distinguishing noise points, DBSCAN effectively handles regions with low density and outliers that are not part of any cluster.\n",
    "\n",
    "By considering density and connectivity, DBSCAN can identify and separate clusters with varying densities. It can capture both dense and sparse regions within a dataset, allowing for flexible clustering that accommodates varying densities naturally."
   ]
  },
  {
   "cell_type": "code",
   "execution_count": null,
   "id": "76f02154-b12c-451c-a020-59543c3ee721",
   "metadata": {},
   "outputs": [],
   "source": []
  },
  {
   "cell_type": "markdown",
   "id": "beb0dd35-3633-455a-9d11-f5948beba13c",
   "metadata": {},
   "source": [
    "# Q8. What are some common evaluation metrics used to assess the quality of DBSCAN clustering results?"
   ]
  },
  {
   "cell_type": "markdown",
   "id": "13e45ab7-862e-497f-9d77-98004b01bf68",
   "metadata": {},
   "source": [
    "There are several evaluation metrics commonly used to assess the quality of DBSCAN (Density-Based Spatial Clustering of Applications with Noise) clustering results. These metrics help measure the effectiveness and performance of the clustering algorithm. \n",
    "\n",
    "Here are some commonly used evaluation metrics for DBSCAN:\n",
    "\n",
    "1. `Silhouette Coefficient`: The silhouette coefficient measures the compactness and separation of clusters. It takes into account both the cohesion of data points within their own cluster and the separation from points in other clusters. The silhouette coefficient ranges from -1 to 1, with higher values indicating better-defined and well-separated clusters.\n",
    "\n",
    "2. `Davies-Bouldin Index`: The Davies-Bouldin Index evaluates the compactness and separation of clusters. It calculates the average similarity between each cluster and its most similar cluster, taking into account both the intra-cluster and inter-cluster distances. A lower Davies-Bouldin Index indicates better clustering performance.\n",
    "\n",
    "3. `Dunn Index`: The Dunn Index assesses the compactness and separation of clusters by computing the ratio between the minimum inter-cluster distance and the maximum intra-cluster distance. A higher Dunn Index indicates better clustering, as it reflects well-separated clusters with compact internal structure.\n",
    "\n",
    "4. `Calinski-Harabasz Index`: The Calinski-Harabasz Index measures the ratio of between-cluster dispersion to within-cluster dispersion. It evaluates the separation between clusters and the compactness within each cluster. Higher values of the Calinski-Harabasz Index indicate better-defined clusters.\n",
    "\n",
    "5. `Density-Based Clustering Validity (DBCV) Index`: The DBCV Index evaluates the quality of density-based clustering methods, including DBSCAN. It takes into account both the density and connectivity of the clusters to assess the compactness and separation. A lower DBCV value indicates better clustering performance.\n",
    "\n",
    "6. `Inter-Cluster Distance Matrix`: The inter-cluster distance matrix provides insights into the distances between clusters. It can be visualized as a matrix, where each cell represents the distance between two clusters. Analyzing the inter-cluster distances helps understand the separation and compactness of clusters.\n",
    "\n",
    "It's important to note that the choice of evaluation metric depends on the specific characteristics of the data and the clustering objectives. Some metrics may be more suitable for certain types of datasets or clustering tasks. It is often recommended to use multiple evaluation metrics in combination to get a comprehensive understanding of the clustering results."
   ]
  },
  {
   "cell_type": "code",
   "execution_count": null,
   "id": "48ec9ae8-a4b3-451c-ab43-bae0f648e260",
   "metadata": {},
   "outputs": [],
   "source": []
  },
  {
   "cell_type": "markdown",
   "id": "9a61fb3a-cc39-47df-aa71-530f81637fd8",
   "metadata": {},
   "source": [
    "# Q9. Can DBSCAN clustering be used for semi-supervised learning tasks?"
   ]
  },
  {
   "cell_type": "markdown",
   "id": "d8af27b5-c4fe-44a9-8310-24a6ea6482c4",
   "metadata": {},
   "source": [
    "DBSCAN clustering is primarily an unsupervised learning algorithm and is not specifically designed for semi-supervised learning tasks. However, there are certain ways in which DBSCAN clustering can be adapted or used in conjunction with semi-supervised learning approaches. Here are a few ways in which DBSCAN can be utilized in semi-supervised learning:\n",
    "\n",
    "1. `Pseudo-labeling`: After clustering the data using DBSCAN, you can assign labels to the clusters based on domain knowledge or by using a small set of labeled data. These cluster labels can then be propagated to the unlabeled data points within the same cluster, effectively generating pseudo-labels. These pseudo-labels can be used as training labels to train a supervised learning model.\n",
    "\n",
    "2. `Cluster-based feature engineering`: The clusters identified by DBSCAN can be used as an additional feature in a semi-supervised learning framework. By including the cluster assignments as a feature, the model can potentially capture cluster-specific patterns and improve its performance.\n",
    "\n",
    "3. `Cluster-based sampling`: DBSCAN can help identify regions of high-density clusters. This information can be used to guide the selection of representative samples for labeling. By focusing on the densest regions or the most uncertain samples within clusters, you can prioritize the labeling process and enhance the efficiency of the semi-supervised learning approach.\n",
    "\n",
    "4. `Outlier detection`: DBSCAN's ability to identify outliers can be valuable in semi-supervised learning. Outliers, which do not belong to any cluster, can be considered as potentially noisy or anomalous instances. By identifying and excluding outliers, you can improve the quality of the labeled data used in the semi-supervised learning process.\n",
    "\n",
    "It's important to note that while DBSCAN can be integrated into a semi-supervised learning framework, it does not inherently provide a direct solution for semi-supervised learning. Additional steps and techniques are typically required to leverage DBSCAN clustering for semi-supervised learning tasks effectively."
   ]
  },
  {
   "cell_type": "code",
   "execution_count": null,
   "id": "555332b5-dec2-47d4-8368-dd77ea77ab49",
   "metadata": {},
   "outputs": [],
   "source": []
  },
  {
   "cell_type": "markdown",
   "id": "f4095a2b-22a6-4d50-a5fb-45f82cb67436",
   "metadata": {},
   "source": [
    "# Q10. How does DBSCAN clustering handle datasets with noise or missing values?"
   ]
  },
  {
   "cell_type": "markdown",
   "id": "82504922-335d-4e94-ac51-c1ceca6e8bee",
   "metadata": {},
   "source": [
    "DBSCAN clustering has some built-in mechanisms to handle datasets with noise or missing values. Here's how DBSCAN handles such scenarios:\n",
    "\n",
    "1. `Noise handling`: DBSCAN is capable of identifying and handling noisy data points, which are data points that do not belong to any cluster. These points are considered outliers and are not assigned to any specific cluster. DBSCAN separates them from the dense regions, allowing for the detection of meaningful clusters in the presence of noise.\n",
    "\n",
    "2. `Handling missing values`: DBSCAN can handle missing values in a straightforward manner by treating them as a separate value or by ignoring them during the density-based calculations. When calculating the density and determining the neighborhood of a data point, missing values are typically not considered in the distance calculations. This means that missing values do not contribute to the density estimation and do not affect the clustering results significantly.\n",
    "\n",
    "Additionally, it's important to preprocess the data and handle missing values appropriately before applying DBSCAN. Missing values can introduce bias or affect the distance calculations, so it's crucial to impute or handle missing values in a way that aligns with the nature of the data and the objectives of the analysis."
   ]
  },
  {
   "cell_type": "code",
   "execution_count": null,
   "id": "49f128a4-d65c-47f1-944d-e0bae6d61961",
   "metadata": {},
   "outputs": [],
   "source": []
  },
  {
   "cell_type": "markdown",
   "id": "c8b09405-4e4c-4356-9afc-cdb2c1067e0b",
   "metadata": {},
   "source": [
    "# Q11. Implement the DBSCAN algorithm using a python programming language, and apply it to a sample dataset. Discuss the clustering results and interpret the meaning of the obtained clusters."
   ]
  },
  {
   "cell_type": "code",
   "execution_count": 17,
   "id": "ac81f266-2dfa-4127-a7e4-b5ce6b1026f1",
   "metadata": {},
   "outputs": [],
   "source": [
    "import pandas as pd\n",
    "import numpy as np\n",
    "import matplotlib.pyplot as plt\n",
    "%matplotlib inline\n",
    "import warnings\n",
    "warnings.filterwarnings('ignore')"
   ]
  },
  {
   "cell_type": "code",
   "execution_count": 18,
   "id": "a444532d-416a-437f-bf55-ed4471b7dd21",
   "metadata": {},
   "outputs": [],
   "source": [
    "## Making dataset\n",
    "from sklearn.datasets import make_moons\n",
    "X,y = make_moons(n_samples=500,noise=0.05,random_state=23)"
   ]
  },
  {
   "cell_type": "code",
   "execution_count": 19,
   "id": "1b7f54f1-e190-47dc-9283-9f1e5b6337f2",
   "metadata": {},
   "outputs": [
    {
     "data": {
      "text/plain": [
       "(500, 2)"
      ]
     },
     "execution_count": 19,
     "metadata": {},
     "output_type": "execute_result"
    }
   ],
   "source": [
    "X.shape"
   ]
  },
  {
   "cell_type": "code",
   "execution_count": 20,
   "id": "c97130e8-313f-46f4-bcc2-0b1d8f869ef6",
   "metadata": {},
   "outputs": [
    {
     "data": {
      "text/plain": [
       "<matplotlib.collections.PathCollection at 0x7f8038547130>"
      ]
     },
     "execution_count": 20,
     "metadata": {},
     "output_type": "execute_result"
    },
    {
     "data": {
      "image/png": "[encoded data removed]",
      "text/plain": [
       "<Figure size 640x480 with 1 Axes>"
      ]
     },
     "metadata": {},
     "output_type": "display_data"
    }
   ],
   "source": [
    "plt.scatter(X[:,0],X[:,1])"
   ]
  },
  {
   "cell_type": "code",
   "execution_count": 21,
   "id": "949aef84-843f-4f31-b2f3-efc8869f5132",
   "metadata": {},
   "outputs": [],
   "source": [
    "## Standardise \n",
    "from sklearn.preprocessing import StandardScaler\n",
    "scaler = StandardScaler()\n",
    "X_scaled = scaler.fit_transform(X)"
   ]
  },
  {
   "cell_type": "code",
   "execution_count": 22,
   "id": "3f75282d-6c9f-45a9-afd0-9dc2383f1404",
   "metadata": {
    "collapsed": true,
    "jupyter": {
     "outputs_hidden": true
    },
    "tags": []
   },
   "outputs": [
    {
     "data": {
      "text/plain": [
       "array([[-2.59913294e-01,  1.38951283e+00],\n",
       "       [ 8.25273433e-01, -1.42185641e+00],\n",
       "       [-1.28274202e+00,  9.76505776e-01],\n",
       "       [ 1.31031046e+00, -7.67712248e-01],\n",
       "       [ 3.25951734e-02, -1.32556288e+00],\n",
       "       [ 2.17147683e-01,  8.82226268e-01],\n",
       "       [ 4.24943925e-01, -1.36310871e+00],\n",
       "       [-1.37419003e+00,  9.98735925e-01],\n",
       "       [-1.57912611e+00,  1.50302290e-01],\n",
       "       [ 1.61118574e+00, -4.76721555e-01],\n",
       "       [-6.27588565e-01, -3.64246813e-02],\n",
       "       [-1.36597904e+00,  1.04804833e+00],\n",
       "       [-5.83833800e-01,  1.31711807e+00],\n",
       "       [-1.34381056e+00,  1.02262263e+00],\n",
       "       [-3.47894921e-01,  1.38086702e+00],\n",
       "       [ 1.15767939e+00, -1.15271622e+00],\n",
       "       [ 6.46688245e-03,  1.27415914e+00],\n",
       "       [ 1.05305510e+00, -1.17774949e+00],\n",
       "       [ 6.38828100e-02,  1.04891874e+00],\n",
       "       [ 4.16824929e-01,  6.85531450e-01],\n",
       "       [-9.01834253e-01,  1.58094877e+00],\n",
       "       [-4.25005565e-01,  1.50298491e+00],\n",
       "       [ 8.07732293e-01, -1.55799098e+00],\n",
       "       [ 9.99295213e-01, -1.39022935e+00],\n",
       "       [ 3.21459239e-02, -1.16966553e+00],\n",
       "       [-6.44622606e-01, -8.05673114e-02],\n",
       "       [-6.97147356e-01,  1.37738422e+00],\n",
       "       [ 1.28839012e+00, -1.12231324e+00],\n",
       "       [-4.72339422e-01,  3.29202151e-01],\n",
       "       [-2.91282062e-01, -7.52728554e-01],\n",
       "       [ 3.70510535e-01, -1.51150807e+00],\n",
       "       [-1.11680269e+00,  1.23437044e+00],\n",
       "       [ 1.05412481e+00, -1.49345720e+00],\n",
       "       [ 3.35334020e-01,  5.60761830e-01],\n",
       "       [ 1.60638291e+00, -5.95976056e-01],\n",
       "       [-4.28004968e-01, -5.32704064e-01],\n",
       "       [ 4.63263720e-01,  5.37816254e-01],\n",
       "       [-4.47133085e-01, -3.41231178e-01],\n",
       "       [-5.69187234e-01, -1.28079690e-01],\n",
       "       [ 6.20115263e-02, -1.36310103e+00],\n",
       "       [ 5.76443336e-01, -2.32106378e-01],\n",
       "       [ 9.63999107e-01, -1.43865896e+00],\n",
       "       [-2.82325059e-02, -1.28781825e+00],\n",
       "       [-9.91266815e-01,  1.32584439e+00],\n",
       "       [-7.10520934e-01,  1.49763989e+00],\n",
       "       [-9.00072552e-01,  1.41161420e+00],\n",
       "       [ 1.53101900e+00, -6.96905200e-01],\n",
       "       [-6.24380224e-01,  3.18914394e-01],\n",
       "       [-5.68918983e-01,  1.48168779e+00],\n",
       "       [ 1.67805138e+00, -7.14379289e-03],\n",
       "       [ 9.14887396e-01, -1.49317440e+00],\n",
       "       [ 7.99162105e-01, -1.41006122e+00],\n",
       "       [-4.50584626e-02, -1.06279813e+00],\n",
       "       [-1.31133292e+00,  1.31155451e+00],\n",
       "       [-1.56153921e+00,  6.88870888e-01],\n",
       "       [-6.20332288e-01,  3.34976613e-01],\n",
       "       [-9.41456498e-01,  1.46654431e+00],\n",
       "       [-2.70125121e-02, -1.23132540e+00],\n",
       "       [ 1.58310442e+00, -1.76073999e-01],\n",
       "       [ 1.44383218e+00, -7.92376236e-01],\n",
       "       [ 6.07779520e-01, -1.45713186e+00],\n",
       "       [-1.57275210e+00,  3.85708270e-01],\n",
       "       [ 1.22439617e+00, -9.80507179e-01],\n",
       "       [-5.62300209e-01,  2.68655927e-01],\n",
       "       [-5.59186779e-01,  1.57778600e-01],\n",
       "       [-1.62762931e+00,  2.11702729e-01],\n",
       "       [-1.52609652e+00,  8.08252697e-01],\n",
       "       [ 1.69019256e+00,  1.76704108e-01],\n",
       "       [-1.67234752e+00,  1.55461539e-02],\n",
       "       [-4.15303765e-01, -7.73399934e-01],\n",
       "       [-1.05391022e+00,  1.05231258e+00],\n",
       "       [-4.94435710e-01, -1.08387694e-02],\n",
       "       [-2.26488194e-01, -9.59327990e-01],\n",
       "       [-4.16618479e-01, -6.32029105e-01],\n",
       "       [ 1.66041866e+00, -2.74810038e-01],\n",
       "       [-6.87599276e-01,  1.40775225e+00],\n",
       "       [ 2.54774264e-01, -1.41614056e+00],\n",
       "       [ 1.57412946e+00, -6.33912189e-01],\n",
       "       [ 1.45032596e+00, -6.78706725e-01],\n",
       "       [-4.99358691e-01,  1.59987807e+00],\n",
       "       [-1.50612065e+00,  6.45261799e-01],\n",
       "       [ 2.82999711e-01,  7.26237064e-01],\n",
       "       [-1.17014671e+00,  1.16556684e+00],\n",
       "       [-7.51194011e-01,  1.42101879e+00],\n",
       "       [-5.35777595e-01,  2.64043423e-01],\n",
       "       [-3.71628989e-01, -6.96073788e-01],\n",
       "       [ 1.49516207e+00, -8.32069616e-01],\n",
       "       [ 4.87067134e-01, -2.48284260e-02],\n",
       "       [-4.40166308e-01,  1.21733562e+00],\n",
       "       [ 7.53112584e-01, -1.31239850e+00],\n",
       "       [-1.04130687e-01, -1.35664378e+00],\n",
       "       [-4.94508604e-01, -5.87485641e-01],\n",
       "       [ 3.46636918e-01, -1.43895106e+00],\n",
       "       [ 7.94727436e-01, -1.36886797e+00],\n",
       "       [-6.95798090e-02,  1.39155794e+00],\n",
       "       [-2.32192141e-01, -9.33444985e-01],\n",
       "       [-5.48115683e-01, -2.01453826e-01],\n",
       "       [-5.14718229e-01, -8.24958125e-01],\n",
       "       [-1.74586404e+00, -9.90275638e-02],\n",
       "       [-1.35050824e+00,  1.00496467e+00],\n",
       "       [ 1.54831177e-01,  8.81995168e-01],\n",
       "       [ 6.20389140e-01, -2.33460332e-01],\n",
       "       [-1.27103010e+00,  1.07325768e+00],\n",
       "       [ 3.59337396e-01,  5.43467351e-01],\n",
       "       [ 1.66634788e+00,  1.07754111e-01],\n",
       "       [ 1.67154947e+00, -7.07362823e-02],\n",
       "       [ 8.69230178e-01, -1.41722361e+00],\n",
       "       [-4.44663461e-01,  1.44701135e+00],\n",
       "       [ 6.41385693e-01, -1.70577414e+00],\n",
       "       [-2.97823001e-02, -1.29555346e+00],\n",
       "       [ 4.96470632e-03,  1.27236770e+00],\n",
       "       [-1.43104823e+00,  9.07739891e-01],\n",
       "       [ 2.85933582e-01,  9.50827409e-01],\n",
       "       [ 5.61847069e-01, -1.55405178e+00],\n",
       "       [-4.13239738e-01,  1.40007273e+00],\n",
       "       [-4.61061916e-02,  1.33359409e+00],\n",
       "       [ 1.01687494e+00, -1.13646098e+00],\n",
       "       [ 2.85240401e-01, -1.29892363e+00],\n",
       "       [-2.55738253e-01,  1.37242723e+00],\n",
       "       [ 1.80152805e+00, -1.77681031e-01],\n",
       "       [-1.30847129e+00,  1.23866201e+00],\n",
       "       [ 2.56372243e-01, -1.42741393e+00],\n",
       "       [-4.50060005e-01,  1.58883049e+00],\n",
       "       [-1.17112718e-01, -1.23858842e+00],\n",
       "       [-1.28819181e+00,  1.12848010e+00],\n",
       "       [-1.26904469e+00,  1.36436591e+00],\n",
       "       [ 5.60783522e-01, -1.49495478e+00],\n",
       "       [ 1.91879700e-01,  9.64334750e-01],\n",
       "       [ 2.88070737e-01, -1.48272181e+00],\n",
       "       [ 2.93150536e-01,  5.91620176e-01],\n",
       "       [-2.29902198e-01, -7.54406758e-01],\n",
       "       [-8.75889291e-01,  1.56154387e+00],\n",
       "       [-1.06063323e+00,  1.27427245e+00],\n",
       "       [ 4.55286022e-01,  9.26425126e-02],\n",
       "       [ 5.93652769e-01, -1.48610444e+00],\n",
       "       [-9.94447525e-01,  1.58668679e+00],\n",
       "       [ 1.30967151e+00, -1.04305542e+00],\n",
       "       [-1.30296407e+00,  1.19489540e+00],\n",
       "       [-1.43453612e+00,  8.75586635e-01],\n",
       "       [-1.65804615e+00,  5.09423597e-02],\n",
       "       [-1.67798032e-01, -9.41047924e-01],\n",
       "       [ 5.99006352e-01, -4.53009007e-01],\n",
       "       [ 5.95039719e-01, -1.40837906e+00],\n",
       "       [ 4.93806368e-01, -1.52895934e+00],\n",
       "       [ 2.92630223e-01, -1.50077908e+00],\n",
       "       [ 1.29187210e+00, -1.35334493e+00],\n",
       "       [ 4.78888176e-01, -1.58195786e+00],\n",
       "       [ 1.67851516e+00, -1.23222641e-01],\n",
       "       [-2.64352216e-01,  1.42241236e+00],\n",
       "       [-5.11591691e-01,  3.80413056e-01],\n",
       "       [-3.05561876e-01, -9.18906435e-01],\n",
       "       [ 4.54375597e-01,  9.70215292e-02],\n",
       "       [-1.55746349e+00,  4.08650770e-01],\n",
       "       [ 1.69719213e+00, -4.19627004e-01],\n",
       "       [ 3.45860180e-01, -1.40763621e+00],\n",
       "       [ 4.64867395e-01,  5.21726404e-01],\n",
       "       [-1.06297198e+00,  1.36513801e+00],\n",
       "       [-3.06875949e-01,  1.60210938e+00],\n",
       "       [ 5.51111901e-02, -1.40834472e+00],\n",
       "       [ 4.79886448e-01,  2.33324446e-01],\n",
       "       [ 6.65753575e-01, -2.18594990e-01],\n",
       "       [-2.13123492e-01,  1.54488935e+00],\n",
       "       [ 8.85805557e-01, -1.28281980e+00],\n",
       "       [ 1.88232476e-01,  1.14662716e+00],\n",
       "       [ 3.89239847e-01, -1.51015196e+00],\n",
       "       [ 1.65164466e+00, -2.41630657e-01],\n",
       "       [-1.17802463e+00,  1.05224976e+00],\n",
       "       [-1.52378531e+00,  6.03996889e-01],\n",
       "       [-1.65336329e+00,  1.95990363e-01],\n",
       "       [-1.70588018e+00, -1.07596292e-01],\n",
       "       [ 1.33256368e+00, -5.86301409e-01],\n",
       "       [-1.52785387e+00,  4.10871044e-01],\n",
       "       [-1.65203988e+00, -1.98459714e-01],\n",
       "       [-5.20834789e-02, -1.28809213e+00],\n",
       "       [-1.17936209e+00,  1.33899689e+00],\n",
       "       [ 1.59889981e+00, -3.88574156e-01],\n",
       "       [ 7.16506716e-02,  1.10659536e+00],\n",
       "       [ 5.98898935e-01,  3.04575352e-01],\n",
       "       [ 2.92060011e-01,  6.94337626e-01],\n",
       "       [ 6.38110196e-01,  1.09066628e-01],\n",
       "       [-1.53381381e+00,  6.95650635e-01],\n",
       "       [-1.35564436e+00,  1.02005483e+00],\n",
       "       [-1.78397113e-01,  1.24305995e+00],\n",
       "       [ 1.82178271e+00,  1.93304890e-01],\n",
       "       [ 4.26914674e-01,  7.46261902e-01],\n",
       "       [-1.37838753e+00,  9.88018290e-01],\n",
       "       [-1.67660502e+00, -2.75752446e-01],\n",
       "       [ 9.65791261e-02,  9.63181349e-01],\n",
       "       [ 1.03212056e-02,  1.27892018e+00],\n",
       "       [ 9.01918504e-01, -1.43129528e+00],\n",
       "       [-1.66692205e+00,  8.47496553e-02],\n",
       "       [ 9.51417249e-01, -1.43902935e+00],\n",
       "       [ 1.74705866e+00,  3.72292406e-01],\n",
       "       [-1.68164801e+00,  2.03191882e-01],\n",
       "       [-1.10952048e-01, -1.11117292e+00],\n",
       "       [ 2.43886470e-01, -1.38907340e+00],\n",
       "       [ 4.87446568e-01, -1.65804341e+00],\n",
       "       [-1.77031856e+00, -3.27896247e-01],\n",
       "       [ 5.51316201e-01, -1.40724044e-01],\n",
       "       [ 1.51466760e+00, -4.49959785e-01],\n",
       "       [-4.65603575e-01,  3.48179186e-01],\n",
       "       [ 5.25217076e-01, -1.28326576e-01],\n",
       "       [ 2.61164400e-01,  1.07507717e+00],\n",
       "       [ 1.07821395e+00, -1.48535016e+00],\n",
       "       [ 4.84187217e-01, -3.29980517e-01],\n",
       "       [ 6.53494698e-01, -1.60377850e+00],\n",
       "       [-5.15383955e-01, -4.18911527e-03],\n",
       "       [ 4.54833777e-01,  1.15157742e-01],\n",
       "       [-4.18956857e-01, -7.47317166e-01],\n",
       "       [ 1.80569025e+00,  4.87064797e-01],\n",
       "       [-3.87890332e-01, -4.60450174e-01],\n",
       "       [-5.65520106e-01, -3.35612555e-01],\n",
       "       [ 2.18764708e-01, -1.54217352e+00],\n",
       "       [-6.89572064e-01,  1.47326440e+00],\n",
       "       [ 2.50793839e-01, -1.48477143e+00],\n",
       "       [ 1.55066396e+00, -4.59300505e-01],\n",
       "       [ 3.79078528e-01, -1.50915194e+00],\n",
       "       [-5.89425895e-01,  1.52137187e+00],\n",
       "       [-1.51003807e+00,  7.27943150e-01],\n",
       "       [ 7.98995044e-01, -1.60638539e+00],\n",
       "       [-7.51001981e-01,  1.66879027e+00],\n",
       "       [ 1.11865094e+00, -1.46978256e+00],\n",
       "       [ 1.58581961e+00, -5.93130960e-01],\n",
       "       [ 7.76940648e-02, -1.39257445e+00],\n",
       "       [-9.10799263e-01,  1.51466179e+00],\n",
       "       [-6.11216359e-01,  7.05668918e-01],\n",
       "       [ 2.46089394e-01,  1.01901761e+00],\n",
       "       [-6.90811537e-01,  1.47465220e+00],\n",
       "       [-4.61933323e-01, -5.20994564e-03],\n",
       "       [ 3.12411257e-01,  8.40913613e-01],\n",
       "       [ 1.13977653e+00, -1.26200159e+00],\n",
       "       [ 5.69109051e-01, -4.18272487e-01],\n",
       "       [-3.66075166e-01, -4.68616642e-01],\n",
       "       [ 1.54545438e+00, -5.31851180e-01],\n",
       "       [-9.25805888e-02, -1.17865907e+00],\n",
       "       [-1.09422925e-01, -1.10477674e+00],\n",
       "       [-1.62210962e+00,  3.82779735e-01],\n",
       "       [-5.51201167e-01,  1.34085985e+00],\n",
       "       [ 8.75791025e-01, -1.42775928e+00],\n",
       "       [ 4.02164602e-01,  7.93524709e-01],\n",
       "       [-2.02209776e-01, -7.65260239e-01],\n",
       "       [-5.14417325e-02,  1.43383785e+00],\n",
       "       [ 5.47336170e-01, -7.08739560e-02],\n",
       "       [-1.76691507e+00, -2.97559917e-01],\n",
       "       [-9.42804641e-01,  1.57138282e+00],\n",
       "       [ 1.75720119e+00, -5.59145052e-02],\n",
       "       [-5.89505160e-01,  1.91220744e-01],\n",
       "       [ 1.74728137e+00,  2.73645336e-01],\n",
       "       [-7.57176915e-01,  1.38412195e+00],\n",
       "       [-1.54921442e+00,  6.51172059e-01],\n",
       "       [-8.79377930e-01,  1.24336977e+00],\n",
       "       [-1.54977676e+00,  4.40944626e-01],\n",
       "       [ 4.05849241e-01,  7.47249182e-01],\n",
       "       [-2.57238356e-01, -7.69291648e-01],\n",
       "       [ 1.67241386e+00, -8.95184503e-02],\n",
       "       [-3.38655936e-01, -6.88105416e-01],\n",
       "       [-9.11499833e-01,  1.46022669e+00],\n",
       "       [-1.49117144e-01,  1.43100373e+00],\n",
       "       [-5.41393188e-01, -9.25871207e-02],\n",
       "       [ 1.45875298e+00, -4.87248694e-01],\n",
       "       [ 2.85540445e-01,  7.75677249e-01],\n",
       "       [-5.64108434e-01,  3.29647822e-01],\n",
       "       [-1.62947743e+00,  3.06603009e-01],\n",
       "       [-4.03749202e-01,  1.43507343e+00],\n",
       "       [ 1.00283022e+00, -1.35596617e+00],\n",
       "       [-5.31852807e-01,  3.65464670e-01],\n",
       "       [-1.10165351e+00,  1.20764062e+00],\n",
       "       [-1.79552670e+00, -4.39735447e-01],\n",
       "       [-8.27906428e-01,  1.38203932e+00],\n",
       "       [-2.96312799e-01,  1.32533686e+00],\n",
       "       [ 2.12930946e-01,  1.01250178e+00],\n",
       "       [ 1.63645243e+00,  2.83059016e-01],\n",
       "       [ 2.06608114e-01,  8.37030871e-01],\n",
       "       [-1.72471810e-01,  1.38335309e+00],\n",
       "       [ 1.08283154e+00, -1.23095235e+00],\n",
       "       [ 1.31860359e+00, -9.08690845e-01],\n",
       "       [ 1.65436116e-01,  1.23798323e+00],\n",
       "       [-3.58776260e-01, -7.39849900e-01],\n",
       "       [ 3.70631582e-02,  1.06642856e+00],\n",
       "       [ 1.56385294e+00, -7.34539951e-01],\n",
       "       [ 5.84340984e-01, -3.19155566e-01],\n",
       "       [ 1.42819046e+00, -8.61652386e-01],\n",
       "       [-2.36625189e-01,  1.42129962e+00],\n",
       "       [-1.81860467e+00, -3.87039925e-01],\n",
       "       [-1.50830501e+00,  5.18141168e-01],\n",
       "       [ 3.52957100e-01,  7.92102458e-01],\n",
       "       [-5.03309403e-01,  1.62424867e+00],\n",
       "       [-1.24598894e+00,  1.11163522e+00],\n",
       "       [ 1.13746835e+00, -1.53296044e+00],\n",
       "       [-3.82769822e-01,  1.56429771e+00],\n",
       "       [-1.59736152e+00,  4.87010494e-01],\n",
       "       [ 8.16595716e-01, -1.54853336e+00],\n",
       "       [-1.64518243e-01, -9.52616748e-01],\n",
       "       [ 8.02334877e-01, -1.31735642e+00],\n",
       "       [-3.23255300e-01,  1.62309974e+00],\n",
       "       [-1.05239742e+00,  1.56319578e+00],\n",
       "       [-1.61648978e-01, -9.98075349e-01],\n",
       "       [-6.25207947e-02, -7.96644601e-01],\n",
       "       [-5.93301564e-01,  1.53431415e+00],\n",
       "       [-1.27936119e+00,  9.63942874e-01],\n",
       "       [-5.05223511e-01, -3.35454713e-01],\n",
       "       [ 2.47344688e-01, -1.37005583e+00],\n",
       "       [ 1.68922061e+00,  6.65035374e-02],\n",
       "       [ 1.69298276e+00, -3.15277074e-01],\n",
       "       [-1.05759773e+00,  1.33664254e+00],\n",
       "       [-5.03609511e-01,  1.45798201e+00],\n",
       "       [ 1.15233550e+00, -1.26827496e+00],\n",
       "       [ 5.30141814e-01, -1.26018885e-01],\n",
       "       [ 5.23798929e-02, -1.15871427e+00],\n",
       "       [-5.21429331e-01, -3.73769185e-01],\n",
       "       [ 5.16526556e-01,  3.57788744e-02],\n",
       "       [-1.56476386e+00,  5.86525351e-01],\n",
       "       [-1.65854709e+00, -4.60538565e-01],\n",
       "       [-1.10651138e+00,  1.48556514e+00],\n",
       "       [-1.65890623e+00,  3.22845831e-01],\n",
       "       [ 2.14672823e-01, -1.39708760e+00],\n",
       "       [-1.79029454e+00, -2.74462410e-01],\n",
       "       [ 1.26393722e+00, -1.28042138e+00],\n",
       "       [ 1.11997415e+00, -1.23502722e+00],\n",
       "       [-2.77758988e-01,  1.60724353e+00],\n",
       "       [ 3.44932102e-01, -1.73245645e+00],\n",
       "       [-1.74555444e+00, -3.67716746e-01],\n",
       "       [-4.73329910e-02, -1.20076967e+00],\n",
       "       [-9.00593609e-01,  1.35248374e+00],\n",
       "       [ 6.37535063e-01, -4.39693627e-01],\n",
       "       [-5.89277722e-01,  1.64068552e+00],\n",
       "       [ 7.78595227e-02, -1.36324393e+00],\n",
       "       [ 7.10587896e-01, -1.54678219e+00],\n",
       "       [ 1.68284401e+00, -6.84034488e-02],\n",
       "       [-5.79002424e-01,  2.80063575e-01],\n",
       "       [-1.71271656e+00, -4.60504136e-01],\n",
       "       [-1.01510741e+00,  1.30018693e+00],\n",
       "       [-1.69885266e+00,  1.22345443e-01],\n",
       "       [ 1.27215278e+00, -1.29667105e+00],\n",
       "       [-1.69423262e+00, -1.05799293e-01],\n",
       "       [ 4.00200080e-02,  1.14184751e+00],\n",
       "       [ 5.61958119e-01,  1.85368167e-02],\n",
       "       [ 9.69539901e-01, -1.29176378e+00],\n",
       "       [ 1.69926431e+00, -2.31299250e-01],\n",
       "       [ 1.32462256e+00, -1.19764783e+00],\n",
       "       [-5.25378865e-01,  4.18139480e-01],\n",
       "       [-9.15899104e-02,  1.43834162e+00],\n",
       "       [ 1.22916943e-01, -1.33582093e+00],\n",
       "       [ 1.77425129e+00,  6.88942586e-01],\n",
       "       [-1.47459591e+00,  9.17417220e-01],\n",
       "       [ 3.98396260e-02,  1.19810242e+00],\n",
       "       [ 4.95716420e-01,  6.51446892e-01],\n",
       "       [ 1.30854882e+00, -9.10054399e-01],\n",
       "       [-6.07571880e-01,  1.23632741e+00],\n",
       "       [-5.42772244e-02,  1.35167531e+00],\n",
       "       [-3.51275590e-01,  1.49960681e+00],\n",
       "       [ 1.65318972e+00,  2.48203750e-01],\n",
       "       [-1.12414349e+00,  1.10192321e+00],\n",
       "       [-5.08945512e-01, -2.40221964e-01],\n",
       "       [-5.19167667e-01, -4.14313947e-01],\n",
       "       [-2.65931487e-01, -9.05323252e-01],\n",
       "       [ 6.09298140e-01, -1.50979834e+00],\n",
       "       [-4.81923411e-01, -4.11238844e-01],\n",
       "       [ 1.68866222e+00,  4.60539818e-01],\n",
       "       [ 6.94815280e-01, -1.33255223e+00],\n",
       "       [-6.10883761e-01,  1.44495971e+00],\n",
       "       [ 1.31179607e+00, -7.90242859e-01],\n",
       "       [-1.51438014e+00,  7.14126853e-01],\n",
       "       [-1.73928087e+00, -2.08415771e-01],\n",
       "       [ 1.74933500e-01,  8.73721137e-01],\n",
       "       [ 1.60751541e+00, -5.23458144e-01],\n",
       "       [-4.15023374e-01,  1.41399392e+00],\n",
       "       [-2.99396876e-01, -5.52857554e-01],\n",
       "       [ 1.54808387e+00, -7.65146038e-01],\n",
       "       [-4.94297014e-01,  2.73386229e-02],\n",
       "       [ 4.24683879e-01, -1.54878197e+00],\n",
       "       [-4.57143354e-01,  2.37381575e-01],\n",
       "       [ 5.58224129e-01, -2.63285024e-01],\n",
       "       [ 1.34744209e+00, -1.10704930e+00],\n",
       "       [-1.77429955e+00, -2.88857474e-03],\n",
       "       [ 1.67521738e+00, -1.62604207e-01],\n",
       "       [-1.42995748e+00,  6.68022853e-01],\n",
       "       [ 5.64664078e-01, -1.65725738e+00],\n",
       "       [ 6.43035352e-01, -1.44849023e+00],\n",
       "       [-1.61102862e+00,  1.58360467e-01],\n",
       "       [ 1.23252852e+00, -9.84378265e-01],\n",
       "       [-1.64283219e+00,  4.70756024e-02],\n",
       "       [-1.59762671e+00,  1.57059593e-01],\n",
       "       [-6.11067497e-01,  2.91789804e-01],\n",
       "       [-1.18098613e+00,  1.24827069e+00],\n",
       "       [-1.61916975e+00,  1.09798915e-01],\n",
       "       [ 1.72631231e+00,  1.85717621e-01],\n",
       "       [ 3.92679519e-01, -1.47248707e+00],\n",
       "       [ 1.25455814e+00, -1.14220585e+00],\n",
       "       [ 1.99995900e-01, -1.36601403e+00],\n",
       "       [-2.22980355e-01, -7.20735104e-01],\n",
       "       [ 1.73747420e+00,  4.90369247e-02],\n",
       "       [-7.15986852e-02,  1.18670199e+00],\n",
       "       [ 6.17367225e-01, -1.97143057e-01],\n",
       "       [ 1.45496777e+00, -8.27224469e-01],\n",
       "       [ 4.48752043e-01,  3.94506902e-01],\n",
       "       [-4.73009301e-01, -2.11415436e-01],\n",
       "       [-2.86164033e-01,  1.39670720e+00],\n",
       "       [-4.89891391e-01, -7.13152487e-02],\n",
       "       [-3.74628282e-01, -6.13241528e-01],\n",
       "       [-1.28195248e+00,  1.03687980e+00],\n",
       "       [ 1.06693826e+00, -1.49641196e+00],\n",
       "       [-5.90322705e-01,  4.77839613e-01],\n",
       "       [-4.11347022e-01, -6.56578500e-01],\n",
       "       [-2.56913943e-01, -1.00108651e+00],\n",
       "       [-4.83896073e-01,  4.94767234e-01],\n",
       "       [ 5.37170169e-01,  4.94880393e-01],\n",
       "       [-4.21852128e-01, -2.78799293e-01],\n",
       "       [ 1.33288642e+00, -1.16511339e+00],\n",
       "       [ 4.66895473e-01,  7.54045000e-01],\n",
       "       [ 4.91428185e-01, -6.12282278e-01],\n",
       "       [ 6.55187510e-01, -2.01294559e-01],\n",
       "       [ 3.65328654e-01, -1.57989822e+00],\n",
       "       [ 1.58897995e+00, -7.41812468e-01],\n",
       "       [-1.11389000e+00,  1.27252676e+00],\n",
       "       [-7.87779317e-01,  1.57665325e+00],\n",
       "       [ 1.32301269e+00, -1.09052860e+00],\n",
       "       [-8.62434646e-01,  1.45296200e+00],\n",
       "       [ 2.81009932e-01,  9.03897936e-01],\n",
       "       [ 1.57246745e+00,  3.90837054e-01],\n",
       "       [-5.64284402e-01, -2.33190439e-01],\n",
       "       [-1.67523330e+00, -3.57122100e-01],\n",
       "       [ 8.87303962e-02,  9.63955847e-01],\n",
       "       [-1.51281591e+00,  7.32084671e-01],\n",
       "       [-3.75139269e-01, -4.76700063e-01],\n",
       "       [-1.77403921e+00, -2.73310785e-01],\n",
       "       [-1.71158113e+00, -4.35292959e-01],\n",
       "       [-1.83787669e-01, -1.02184874e+00],\n",
       "       [-3.82318672e-01, -3.82898312e-01],\n",
       "       [-1.45475360e-01, -1.00868195e+00],\n",
       "       [ 6.69697422e-02,  1.08494689e+00],\n",
       "       [-4.82645154e-04, -1.21336861e+00],\n",
       "       [-3.54856748e-02,  1.20962865e+00],\n",
       "       [ 1.44042184e+00, -9.01801821e-01],\n",
       "       [-8.26541574e-01,  1.54631988e+00],\n",
       "       [ 1.41622404e+00, -1.11239094e+00],\n",
       "       [ 1.91303666e-01, -1.23399316e+00],\n",
       "       [ 4.71950708e-01,  2.09983336e-01],\n",
       "       [ 1.83254919e+00,  2.87776938e-01],\n",
       "       [ 9.89339873e-01, -1.27084089e+00],\n",
       "       [ 5.61626641e-01, -5.54527365e-01],\n",
       "       [ 2.24801854e-01, -1.29501817e+00],\n",
       "       [ 1.70288829e+00,  2.76412166e-01],\n",
       "       [-1.16108075e+00,  1.25156675e+00],\n",
       "       [ 5.58648919e-01, -5.43548417e-02],\n",
       "       [-3.42276061e-01, -1.00523106e+00],\n",
       "       [-5.38483203e-01, -1.78895147e-01],\n",
       "       [ 2.89401423e-01,  8.01190364e-01],\n",
       "       [ 5.05608949e-01,  2.57058801e-01],\n",
       "       [-6.20466226e-01,  1.58539922e+00],\n",
       "       [ 1.66941435e+00, -8.48005839e-02],\n",
       "       [ 5.29584575e-01, -1.12338611e-02],\n",
       "       [-4.90620612e-01,  1.48831613e+00],\n",
       "       [-1.35761219e+00,  9.42842194e-01],\n",
       "       [-1.49817057e+00,  3.40208853e-01],\n",
       "       [-2.61042181e-01,  1.47941354e+00],\n",
       "       [-1.56645419e+00,  8.03026109e-02],\n",
       "       [ 6.15333989e-01, -1.02533969e-01],\n",
       "       [-1.34941343e+00,  1.01162244e+00],\n",
       "       [ 5.97853378e-01, -1.63816935e+00],\n",
       "       [ 6.46194667e-01, -1.54554602e+00],\n",
       "       [ 2.55660516e-01,  9.23940425e-01],\n",
       "       [ 4.77945270e-01,  4.06130454e-01],\n",
       "       [ 8.21773436e-01, -1.31008844e+00],\n",
       "       [ 1.70679978e+00,  2.62175517e-01],\n",
       "       [-1.30616899e+00,  8.79885709e-01],\n",
       "       [ 1.23055420e+00, -1.06595095e+00],\n",
       "       [ 1.04338608e+00, -1.40098131e+00],\n",
       "       [ 2.87218171e-01,  9.40549325e-01],\n",
       "       [ 1.54565246e+00, -7.09810805e-01],\n",
       "       [ 1.24492567e-01, -1.41719306e+00],\n",
       "       [ 7.22203444e-02,  1.29539128e+00],\n",
       "       [-4.17692546e-01, -6.37436244e-01],\n",
       "       [ 3.86406954e-01,  7.46592980e-01],\n",
       "       [ 4.90089045e-01, -4.61734035e-03],\n",
       "       [ 1.60858367e+00,  1.79672893e-01],\n",
       "       [-1.49858909e+00,  8.30974387e-01],\n",
       "       [-1.43988405e+00,  7.85754350e-01],\n",
       "       [ 1.58602069e+00, -1.69237659e-01],\n",
       "       [ 1.60614735e+00, -4.58864456e-01],\n",
       "       [-1.47334595e+00,  8.15792936e-01],\n",
       "       [ 2.26412560e-01,  5.35814304e-01],\n",
       "       [ 6.05138800e-01, -2.03562476e-01],\n",
       "       [ 1.31830289e+00, -1.00178189e+00],\n",
       "       [ 7.06385784e-01, -1.38842685e+00],\n",
       "       [ 6.59787450e-01, -5.07941440e-01],\n",
       "       [ 1.30130131e+00, -9.61951641e-01],\n",
       "       [-1.03506849e+00,  1.48139221e+00],\n",
       "       [-1.80760098e-01,  1.23269524e+00],\n",
       "       [ 4.75689566e-01,  5.12814368e-01],\n",
       "       [ 2.41085890e-01, -1.37346613e+00],\n",
       "       [ 1.60032657e+00, -4.28501221e-01],\n",
       "       [-1.75263537e+00, -3.92444226e-01],\n",
       "       [ 5.79799691e-01,  3.32090511e-01],\n",
       "       [ 1.69895170e+00,  3.82090691e-01],\n",
       "       [ 1.31602104e+00, -8.88341078e-01],\n",
       "       [ 1.47470598e+00, -4.87320547e-01],\n",
       "       [ 3.27975117e-01,  2.74608305e-01],\n",
       "       [-1.75505677e+00, -4.95110830e-02],\n",
       "       [ 7.82507177e-02,  1.19831446e+00]])"
      ]
     },
     "execution_count": 22,
     "metadata": {},
     "output_type": "execute_result"
    }
   ],
   "source": [
    "X_scaled"
   ]
  },
  {
   "cell_type": "code",
   "execution_count": 23,
   "id": "45ca0412-168b-48b4-91ad-b90d768a0d57",
   "metadata": {},
   "outputs": [
    {
     "data": {
      "text/html": [
       "<style>#sk-container-id-2 {color: black;background-color: white;}#sk-container-id-2 pre{padding: 0;}#sk-container-id-2 div.sk-toggleable {background-color: white;}#sk-container-id-2 label.sk-toggleable__label {cursor: pointer;display: block;width: 100%;margin-bottom: 0;padding: 0.3em;box-sizing: border-box;text-align: center;}#sk-container-id-2 label.sk-toggleable__label-arrow:before {content: \"▸\";float: left;margin-right: 0.25em;color: #696969;}#sk-container-id-2 label.sk-toggleable__label-arrow:hover:before {color: black;}#sk-container-id-2 div.sk-estimator:hover label.sk-toggleable__label-arrow:before {color: black;}#sk-container-id-2 div.sk-toggleable__content {max-height: 0;max-width: 0;overflow: hidden;text-align: left;background-color: #f0f8ff;}#sk-container-id-2 div.sk-toggleable__content pre {margin: 0.2em;color: black;border-radius: 0.25em;background-color: #f0f8ff;}#sk-container-id-2 input.sk-toggleable__control:checked~div.sk-toggleable__content {max-height: 200px;max-width: 100%;overflow: auto;}#sk-container-id-2 input.sk-toggleable__control:checked~label.sk-toggleable__label-arrow:before {content: \"▾\";}#sk-container-id-2 div.sk-estimator input.sk-toggleable__control:checked~label.sk-toggleable__label {background-color: #d4ebff;}#sk-container-id-2 div.sk-label input.sk-toggleable__control:checked~label.sk-toggleable__label {background-color: #d4ebff;}#sk-container-id-2 input.sk-hidden--visually {border: 0;clip: rect(1px 1px 1px 1px);clip: rect(1px, 1px, 1px, 1px);height: 1px;margin: -1px;overflow: hidden;padding: 0;position: absolute;width: 1px;}#sk-container-id-2 div.sk-estimator {font-family: monospace;background-color: #f0f8ff;border: 1px dotted black;border-radius: 0.25em;box-sizing: border-box;margin-bottom: 0.5em;}#sk-container-id-2 div.sk-estimator:hover {background-color: #d4ebff;}#sk-container-id-2 div.sk-parallel-item::after {content: \"\";width: 100%;border-bottom: 1px solid gray;flex-grow: 1;}#sk-container-id-2 div.sk-label:hover label.sk-toggleable__label {background-color: #d4ebff;}#sk-container-id-2 div.sk-serial::before {content: \"\";position: absolute;border-left: 1px solid gray;box-sizing: border-box;top: 0;bottom: 0;left: 50%;z-index: 0;}#sk-container-id-2 div.sk-serial {display: flex;flex-direction: column;align-items: center;background-color: white;padding-right: 0.2em;padding-left: 0.2em;position: relative;}#sk-container-id-2 div.sk-item {position: relative;z-index: 1;}#sk-container-id-2 div.sk-parallel {display: flex;align-items: stretch;justify-content: center;background-color: white;position: relative;}#sk-container-id-2 div.sk-item::before, #sk-container-id-2 div.sk-parallel-item::before {content: \"\";position: absolute;border-left: 1px solid gray;box-sizing: border-box;top: 0;bottom: 0;left: 50%;z-index: -1;}#sk-container-id-2 div.sk-parallel-item {display: flex;flex-direction: column;z-index: 1;position: relative;background-color: white;}#sk-container-id-2 div.sk-parallel-item:first-child::after {align-self: flex-end;width: 50%;}#sk-container-id-2 div.sk-parallel-item:last-child::after {align-self: flex-start;width: 50%;}#sk-container-id-2 div.sk-parallel-item:only-child::after {width: 0;}#sk-container-id-2 div.sk-dashed-wrapped {border: 1px dashed gray;margin: 0 0.4em 0.5em 0.4em;box-sizing: border-box;padding-bottom: 0.4em;background-color: white;}#sk-container-id-2 div.sk-label label {font-family: monospace;font-weight: bold;display: inline-block;line-height: 1.2em;}#sk-container-id-2 div.sk-label-container {text-align: center;}#sk-container-id-2 div.sk-container {/* jupyter's `normalize.less` sets `[hidden] { display: none; }` but bootstrap.min.css set `[hidden] { display: none !important; }` so we also need the `!important` here to be able to override the default hidden behavior on the sphinx rendered scikit-learn.org. See: https://github.com/scikit-learn/scikit-learn/issues/21755 */display: inline-block !important;position: relative;}#sk-container-id-2 div.sk-text-repr-fallback {display: none;}</style><div id=\"sk-container-id-2\" class=\"sk-top-container\"><div class=\"sk-text-repr-fallback\"><pre>DBSCAN()</pre><b>In a Jupyter environment, please rerun this cell to show the HTML representation or trust the notebook. <br />On GitHub, the HTML representation is unable to render, please try loading this page with nbviewer.org.</b></div><div class=\"sk-container\" hidden><div class=\"sk-item\"><div class=\"sk-estimator sk-toggleable\"><input class=\"sk-toggleable__control sk-hidden--visually\" id=\"sk-estimator-id-2\" type=\"checkbox\" checked><label for=\"sk-estimator-id-2\" class=\"sk-toggleable__label sk-toggleable__label-arrow\">DBSCAN</label><div class=\"sk-toggleable__content\"><pre>DBSCAN()</pre></div></div></div></div></div>"
      ],
      "text/plain": [
       "DBSCAN()"
      ]
     },
     "execution_count": 23,
     "metadata": {},
     "output_type": "execute_result"
    }
   ],
   "source": [
    "## Implementation\n",
    "from sklearn.cluster import DBSCAN\n",
    "dbscan = DBSCAN(eps=0.5,min_samples=5)\n",
    "dbscan.fit(X_scaled)"
   ]
  },
  {
   "cell_type": "code",
   "execution_count": 24,
   "id": "81c7152c-9cf5-434c-b4c3-5f72593ebbb8",
   "metadata": {
    "collapsed": true,
    "jupyter": {
     "outputs_hidden": true
    },
    "tags": []
   },
   "outputs": [
    {
     "data": {
      "text/plain": [
       "array([0, 1, 0, 1, 1, 0, 1, 0, 0, 1, 1, 0, 0, 0, 0, 1, 0, 1, 0, 0, 0, 0,\n",
       "       1, 1, 1, 1, 0, 1, 1, 1, 1, 0, 1, 0, 1, 1, 0, 1, 1, 1, 0, 1, 1, 0,\n",
       "       0, 0, 1, 1, 0, 1, 1, 1, 1, 0, 0, 1, 0, 1, 1, 1, 1, 0, 1, 1, 1, 0,\n",
       "       0, 1, 0, 1, 0, 1, 1, 1, 1, 0, 1, 1, 1, 0, 0, 0, 0, 0, 1, 1, 1, 0,\n",
       "       0, 1, 1, 1, 1, 1, 0, 1, 1, 1, 0, 0, 0, 0, 0, 0, 1, 1, 1, 0, 1, 1,\n",
       "       0, 0, 0, 1, 0, 0, 1, 1, 0, 1, 0, 1, 0, 1, 0, 0, 1, 0, 1, 0, 1, 0,\n",
       "       0, 0, 1, 0, 1, 0, 0, 0, 1, 0, 1, 1, 1, 1, 1, 1, 0, 1, 1, 0, 0, 1,\n",
       "       1, 0, 0, 0, 1, 0, 0, 0, 1, 0, 1, 1, 0, 0, 0, 0, 1, 0, 0, 1, 0, 1,\n",
       "       0, 0, 0, 0, 0, 0, 0, 1, 0, 0, 0, 0, 0, 1, 0, 1, 1, 0, 1, 1, 1, 0,\n",
       "       0, 1, 1, 0, 0, 1, 0, 1, 1, 0, 1, 1, 1, 1, 1, 0, 1, 1, 1, 0, 0, 1,\n",
       "       0, 1, 1, 1, 0, 1, 0, 0, 1, 0, 1, 0, 1, 1, 1, 1, 0, 0, 1, 0, 1, 0,\n",
       "       0, 0, 0, 1, 1, 1, 0, 0, 0, 0, 0, 1, 1, 1, 0, 0, 1, 1, 0, 1, 0, 0,\n",
       "       1, 1, 0, 0, 0, 0, 0, 1, 0, 0, 1, 1, 0, 1, 0, 1, 0, 1, 0, 0, 0, 0,\n",
       "       0, 0, 1, 0, 0, 1, 1, 1, 0, 0, 1, 1, 0, 0, 1, 1, 1, 1, 0, 0, 1, 0,\n",
       "       1, 1, 0, 0, 0, 0, 0, 1, 0, 1, 1, 0, 1, 0, 1, 0, 0, 0, 1, 1, 1, 1,\n",
       "       0, 0, 0, 1, 0, 0, 0, 1, 1, 1, 1, 0, 1, 1, 0, 0, 0, 1, 0, 0, 0, 1,\n",
       "       0, 1, 1, 1, 1, 1, 1, 1, 0, 1, 0, 0, 0, 1, 0, 1, 1, 1, 1, 1, 0, 1,\n",
       "       0, 1, 0, 1, 1, 0, 1, 0, 0, 1, 0, 0, 1, 1, 1, 1, 1, 1, 0, 0, 1, 0,\n",
       "       1, 0, 1, 1, 0, 1, 1, 1, 1, 1, 0, 1, 1, 0, 0, 0, 1, 1, 0, 0, 1, 0,\n",
       "       0, 1, 1, 0, 0, 0, 1, 0, 0, 1, 1, 1, 0, 1, 0, 1, 0, 1, 1, 0, 1, 1,\n",
       "       0, 1, 1, 0, 0, 1, 1, 0, 0, 0, 1, 0, 0, 0, 0, 0, 0, 0, 0, 1, 1, 0,\n",
       "       0, 1, 1, 0, 1, 1, 0, 1, 1, 0, 1, 0, 0, 1, 0, 0, 1, 1, 0, 0, 0, 1,\n",
       "       1, 0, 1, 0, 0, 0, 1, 1, 0, 0, 1, 1, 1, 0, 0, 0])"
      ]
     },
     "execution_count": 24,
     "metadata": {},
     "output_type": "execute_result"
    }
   ],
   "source": [
    "dbscan.labels_"
   ]
  },
  {
   "cell_type": "code",
   "execution_count": 25,
   "id": "1c8fe3c9-2c7b-4bae-9041-dc045c242e3f",
   "metadata": {},
   "outputs": [
    {
     "data": {
      "text/plain": [
       "<matplotlib.collections.PathCollection at 0x7f80385f15d0>"
      ]
     },
     "execution_count": 25,
     "metadata": {},
     "output_type": "execute_result"
    },
    {
     "data": {
      "image/png": "[encoded data removed]",
      "text/plain": [
       "<Figure size 640x480 with 1 Axes>"
      ]
     },
     "metadata": {},
     "output_type": "display_data"
    }
   ],
   "source": [
    "plt.scatter(X_scaled[:,0],X_scaled[:,1],c=dbscan.labels_)"
   ]
  },
  {
   "cell_type": "code",
   "execution_count": 28,
   "id": "6ea6e9b0-043d-4774-b4cb-3a4a9f192298",
   "metadata": {},
   "outputs": [
    {
     "name": "stdout",
     "output_type": "stream",
     "text": [
      "Silhouette Score: 0.3833584963616639\n"
     ]
    }
   ],
   "source": [
    "from sklearn.metrics import silhouette_score\n",
    "silhouette_avg = silhouette_score(X_scaled, dbscan.labels_)\n",
    "print(\"Silhouette Score:\", silhouette_avg)"
   ]
  },
  {
   "cell_type": "code",
   "execution_count": null,
   "id": "3f00ef74-ed4a-4e03-b0be-450c9283749d",
   "metadata": {},
   "outputs": [],
   "source": []
  }
 ],
 "metadata": {
  "kernelspec": {
   "display_name": "Python 3 (ipykernel)",
   "language": "python",
   "name": "python3"
  },
  "language_info": {
   "codemirror_mode": {
    "name": "ipython",
    "version": 3
   },
   "file_extension": ".py",
   "mimetype": "text/x-python",
   "name": "python",
   "nbconvert_exporter": "python",
   "pygments_lexer": "ipython3",
   "version": "3.10.6"
  }
 },
 "nbformat": 4,
 "nbformat_minor": 5
}
