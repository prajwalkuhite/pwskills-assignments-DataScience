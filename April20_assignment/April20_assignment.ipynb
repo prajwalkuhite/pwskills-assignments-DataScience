{
 "cells": [
  {
   "cell_type": "markdown",
   "id": "f64bb73c-641a-45b8-afd2-0460936e8ce8",
   "metadata": {},
   "source": [
    "# Q1. What is the KNN algorithm?"
   ]
  },
  {
   "attachments": {
    "375a93a6-9109-42b6-897d-11451788145a.png": {
     "image/png": "[encoded data removed]"
    }
   },
   "cell_type": "markdown",
   "id": "bef4116e-4114-44b5-a0b2-69c7861dc6fa",
   "metadata": {},
   "source": [
    "The K-Nearest Neighbors (KNN) algorithm is a popular supervised machine learning algorithm used for both classification and regression tasks. It is a non-parametric algorithm, meaning it does not make any assumptions about the underlying data distribution.\n",
    "\n",
    "In the KNN algorithm, the \"K\" refers to the number of nearest neighbors that are considered when making a prediction. Given a new input instance, the algorithm identifies the K closest training examples (neighbors) based on a distance metric (e.g., Euclidean distance) and assigns a label to the new instance based on the majority class of its K nearest neighbors.\n",
    "\n",
    "For classification, the KNN algorithm assigns the class label that occurs most frequently among the K nearest neighbors. In the case of regression, it predicts the value by taking the average (or weighted average) of the target values of the K nearest neighbors.\n",
    "\n",
    "![image.png](attachment:375a93a6-9109-42b6-897d-11451788145a.png)"
   ]
  },
  {
   "cell_type": "code",
   "execution_count": null,
   "id": "76c97165-ff6f-4403-832a-69d61cbee39f",
   "metadata": {},
   "outputs": [],
   "source": []
  },
  {
   "cell_type": "markdown",
   "id": "d87b7076-6626-4e69-827a-69f9f049dcf3",
   "metadata": {},
   "source": [
    "# Q2. How do you choose the value of K in KNN?"
   ]
  },
  {
   "cell_type": "markdown",
   "id": "215650ff-b6b9-4113-b7ac-4cbb35e9814d",
   "metadata": {},
   "source": [
    "Choosing the value of K in K-Nearest Neighbors (KNN) algorithm is an important step in achieving optimal results. The value of K determines the number of nearest neighbors to consider when making a prediction for a new data point. Here are some common ways to choose the value of K:\n",
    "\n",
    "1. `Cross-validation`: One of the most common approaches to select the value of K is through cross-validation. In this approach, you divide your data into training and validation sets. Then, for each value of K, you train your model on the training set and evaluate its performance on the validation set. You choose the value of K that gives the best performance on the validation set.\n",
    "\n",
    "2. `Rule of thumb`: Another simple approach is to use a rule of thumb that suggests the value of K as the square root of the number of data points. This is not always the optimal value, but it can be a good starting point.\n",
    "\n",
    "3. ` Domain knowledge`: Sometimes, domain knowledge can help in selecting the value of K. For example, if you know that the dataset has a specific pattern or structure, you can choose the value of K accordingly.\n",
    "\n",
    "4. `Experimentation`: Finally, you can experiment with different values of K and compare their performance on your data. This approach is useful when you don't have prior knowledge of the optimal value of K."
   ]
  },
  {
   "cell_type": "code",
   "execution_count": null,
   "id": "a15efa61-e9ec-40fb-9b82-0b5bc15a54d2",
   "metadata": {},
   "outputs": [],
   "source": []
  },
  {
   "cell_type": "markdown",
   "id": "c172e748-839c-4f9b-9914-a27a45a6804b",
   "metadata": {},
   "source": [
    "# Q3. What is the difference between KNN classifier and KNN regressor?"
   ]
  },
  {
   "cell_type": "markdown",
   "id": "4973db03-11ac-4ed9-ab2c-e4f0393b0f5e",
   "metadata": {},
   "source": [
    "## KNN Classifier:\n",
    "\n",
    "1. Used for classification tasks.\n",
    "2. Assigns categorical labels to input instances.\n",
    "3. Determines the majority class among the K nearest neighbors.\n",
    "4. Uses a distance metric (e.g., Euclidean distance) to find the nearest neighbors.\n",
    "5. The input instance is assigned the label of the majority class among the neighbors.\n",
    "6. Example: If K = 5 and the neighbors are of classes A, A, B, B, C, the input instance will be classified as class A.\n",
    "\n",
    "## KNN Regressor:\n",
    "\n",
    "1. Used for regression tasks.\n",
    "2. Predicts continuous numerical values or real-valued outputs.\n",
    "3. Takes the average (or weighted average) of the target values of the K nearest neighbors.\n",
    "4. Uses a distance metric to find the nearest neighbors.\n",
    "5. The predicted value is the average (or weighted average) of the target values among the neighbors.\n",
    "6. Example: If K = 5 and the target values of the neighbors are 10, 12, 15, 16, 18, the predicted value will be the average of these values (14.2)."
   ]
  },
  {
   "cell_type": "code",
   "execution_count": null,
   "id": "1b6cf2f9-7c29-4089-a6cc-aea3d7aab3bc",
   "metadata": {},
   "outputs": [],
   "source": []
  },
  {
   "cell_type": "markdown",
   "id": "60ad7692-cb73-45a1-99f9-fc9323e6060a",
   "metadata": {},
   "source": [
    "# Q4. How do you measure the performance of KNN?"
   ]
  },
  {
   "cell_type": "markdown",
   "id": "f64b09ab-a155-4905-b5a2-2881c6499dba",
   "metadata": {},
   "source": [
    "## For Classification Tasks:\n",
    "\n",
    "1. `Accuracy`: It measures the proportion of correctly classified instances over the total number of instances.\n",
    "2. `Precision`: It represents the ratio of true positives to the sum of true positives and false positives, indicating the model's ability to correctly identify positive instances.\n",
    "3. `Recall`: It calculates the ratio of true positives to the sum of true positives and false negatives, indicating the model's ability to correctly capture all positive instances.\n",
    "4. `F1 Score`: It is the harmonic mean of precision and recall, providing a balanced measure of the model's performance.\n",
    "5. `Confusion Matrix`: It provides a tabular representation of true positive, true negative, false positive, and false negative counts, offering a more detailed view of the classification results.\n",
    "\n",
    "## For Regression Tasks:\n",
    "\n",
    "1. `Mean Squared Error (MSE)`: It calculates the average of the squared differences between the predicted values and the actual values.\n",
    "2. `Root Mean Squared Error (RMSE)`: It is the square root of the MSE and provides a measure in the same units as the target variable, making it easier to interpret.\n",
    "3. `Mean Absolute Error (MAE)`: It computes the average of the absolute differences between the predicted values and the actual values.\n",
    "4. `R-squared (R²)`: It quantifies the proportion of the variance in the target variable that is predictable from the independent variables. It ranges from 0 to 1, with higher values indicating a better fit."
   ]
  },
  {
   "cell_type": "code",
   "execution_count": null,
   "id": "b042e792-50f5-4d81-889f-4aceca245ed7",
   "metadata": {},
   "outputs": [],
   "source": []
  },
  {
   "cell_type": "markdown",
   "id": "1025eb4b-7e58-48b5-9b33-858c6ae638d8",
   "metadata": {},
   "source": [
    "# Q5. What is the curse of dimensionality in KNN?"
   ]
  },
  {
   "cell_type": "markdown",
   "id": "4121c79f-1d2e-4da6-9520-12013fe50265",
   "metadata": {},
   "source": [
    "\n",
    "The curse of dimensionality in K-Nearest Neighbors (KNN) refers to the phenomenon where the performance of the KNN algorithm deteriorates as the number of features or dimensions increases. Specifically, as the number of features or dimensions increases, the data becomes more sparse in the high-dimensional space, making it difficult to identify the nearest neighbors accurately. This results in a higher risk of misclassification or regression errors.\n",
    "\n",
    "In high-dimensional space, the volume of the space increases exponentially with the number of dimensions, which means that the number of training instances needed to maintain a certain level of representation increases exponentially as well. As a result, KNN tends to become computationally expensive and memory-intensive as the number of dimensions increases.\n",
    "\n",
    "To overcome the curse of dimensionality in KNN, various techniques have been proposed, such as feature selection or dimensionality reduction methods, which aim to reduce the number of irrelevant or redundant features in the data. Another approach is to use distance metrics that are more suitable for high-dimensional data, such as cosine similarity or Mahalanobis distance. Alternatively, other machine learning algorithms, such as decision trees or neural networks, may be more appropriate for high-dimensional data with complex relationships between features."
   ]
  },
  {
   "cell_type": "code",
   "execution_count": null,
   "id": "e617df94-35da-46df-a1c3-40d3544c3f5b",
   "metadata": {},
   "outputs": [],
   "source": []
  },
  {
   "cell_type": "markdown",
   "id": "b017cf51-ff17-4179-a247-087adc798573",
   "metadata": {},
   "source": [
    "# Q6. How do you handle missing values in KNN?"
   ]
  },
  {
   "cell_type": "markdown",
   "id": "ea756373-b7f5-44a2-ab82-a918a9cad373",
   "metadata": {},
   "source": [
    "Handling missing values in the K-Nearest Neighbors (KNN) algorithm requires careful consideration, as the algorithm calculates distances between instances to determine nearest neighbors. Here are some common approaches to handle missing values in KNN:\n",
    "\n",
    "1. `Removal of Instances`: One straightforward approach is to remove instances that have missing values. However, this can lead to significant data loss, especially if the missing values are present in a substantial portion of the dataset. It is typically considered when the missing values are limited to a few instances.\n",
    "\n",
    "2. `Imputation with Mean/Median/Mode`: Another approach is to impute missing values with the mean, median, or mode of the feature (column) containing the missing values. This approach works well for numerical features. By using the central tendency measures, the missing values can be replaced with reasonable estimates, preserving the overall statistical properties of the data.\n",
    "\n",
    "3. `Imputation with Regression`: Missing values can be imputed by performing a regression on other features (variables) that are not missing. A regression model can be trained using instances with complete data, and then the model can be used to predict the missing values.\n",
    "\n",
    "4. `Imputation with KNN`: In this approach, missing values are imputed using the KNN algorithm itself. The missing value is replaced with the average (or median) value of the feature from its K nearest neighbors. The distances are computed based on the available features in the instance.\n",
    "\n",
    "5. `Multiple Imputations`: Multiple imputation techniques involve creating multiple imputed datasets by estimating missing values using various methods (e.g., regression, KNN, etc.) and incorporating the uncertainty of the imputations in the subsequent analysis. This approach can provide more robust results compared to a single imputation method."
   ]
  },
  {
   "cell_type": "code",
   "execution_count": null,
   "id": "6e576b11-cd5b-4c67-9950-98b1947baf3f",
   "metadata": {},
   "outputs": [],
   "source": []
  },
  {
   "cell_type": "markdown",
   "id": "047d2439-49b2-4503-ae8d-5bbcb816e71e",
   "metadata": {},
   "source": [
    "# Q7. Compare and contrast the performance of the KNN classifier and regressor. Which one is better for which type of problem?"
   ]
  },
  {
   "cell_type": "markdown",
   "id": "e6c4b78f-7306-4d92-a0a6-d07030eea15d",
   "metadata": {},
   "source": [
    "K-Nearest Neighbors (KNN) is a flexible machine learning algorithm that can be used for both classification and regression tasks. However, the performance of KNN classifier and regressor can differ significantly depending on the nature of the problem and the characteristics of the data. Here are some key differences between KNN classifier and regressor:\n",
    "\n",
    "1. Output: KNN classifier outputs discrete class labels, whereas KNN regressor outputs continuous numeric values.\n",
    "\n",
    "2. Performance metrics: The performance metrics used to evaluate KNN classifier and regressor are different. For classification tasks, metrics such as accuracy, precision, recall, and F1 score are commonly used. For regression tasks, metrics such as mean absolute error (MAE), mean squared error (MSE), and root mean squared error (RMSE) are commonly used.\n",
    "\n",
    "3. Handling outliers: KNN regressor can be sensitive to outliers in the data, as the prediction is based on the average value of the k-nearest neighbors. On the other hand, KNN classifier is less affected by outliers as long as the majority of the neighbors are correctly classified.\n",
    "\n",
    "4. Data distribution: KNN classifier works well when the classes are well separated, while KNN regressor works well when the data points are distributed smoothly.\n",
    "\n",
    "Based on these differences, KNN classifier is generally better suited for classification problems with discrete class labels and well-separated classes. Examples include image classification, sentiment analysis, and spam detection. On the other hand, KNN regressor is better suited for regression problems with continuous numeric values and smoothly distributed data. Examples include predicting housing prices, stock prices, and temperature forecasting."
   ]
  },
  {
   "cell_type": "code",
   "execution_count": null,
   "id": "2c56b232-c927-462f-b3c0-b64740a1019d",
   "metadata": {},
   "outputs": [],
   "source": []
  },
  {
   "cell_type": "markdown",
   "id": "cefd307b-74c6-42d2-91f6-da5c507e3d01",
   "metadata": {
    "tags": []
   },
   "source": [
    "# Q8. What are the strengths and weaknesses of the KNN algorithm for classification and regression tasks, and how can these be addressed?"
   ]
  },
  {
   "cell_type": "markdown",
   "id": "f9dd286c-a75a-4694-b957-ebf0cf94b458",
   "metadata": {},
   "source": [
    "## Strengths of KNN:\n",
    "\n",
    "1. `Intuitive and simple`: KNN is easy to understand and implement, making it a popular choice for beginners.\n",
    "\n",
    "2. `Non-parametric`: KNN does not make assumptions about the underlying data distribution, making it versatile for various types of data.\n",
    "\n",
    "3. `Flexibility`: KNN can handle both classification and regression tasks, adapting to different problem domains.\n",
    "\n",
    "4. `Non-linear relationships`: KNN can capture non-linear relationships in the data, making it suitable for problems with complex decision boundaries.\n",
    "\n",
    "5. `No training phase`: KNN does not require a separate training phase, making it useful in scenarios with streaming or dynamic data.\n",
    "\n",
    "## Weaknesses of KNN:\n",
    "\n",
    "1. `Computationally expensive`: The computation cost of KNN increases as the dataset grows, especially in high-dimensional spaces.\n",
    "\n",
    "2. `Sensitivity to feature scaling`: KNN relies on distance measures, so features with different scales can have a disproportionate impact on the results. Feature scaling is recommended to address this issue.\n",
    "\n",
    "3. `Curse of dimensionality`: In high-dimensional spaces, the performance of KNN tends to deteriorate due to increased sparsity and computational complexity. Dimensionality reduction techniques can help mitigate this problem.\n",
    "\n",
    "4. `Determining the optimal K`: The choice of the K parameter in KNN can significantly impact the algorithm's performance. Selecting an appropriate K value requires experimentation and model validation techniques like cross-validation.\n",
    "\n",
    "5. `Imbalanced data`: KNN can be sensitive to imbalanced datasets, where one class is significantly more prevalent than others. Techniques like oversampling, undersampling, or using weighted distances can address this issue.\n",
    "\n",
    "### To address these weaknesses:\n",
    "\n",
    "* Consider using dimensionality reduction techniques like Principal Component Analysis (PCA) or feature selection to reduce the number of features and mitigate the curse of dimensionality.\n",
    "* Apply feature scaling methods such as normalization or standardization to ensure that all features contribute equally to the distance calculations.\n",
    "* Experiment with different distance metrics, as the choice of metric can affect the results.\n",
    "* Employ cross-validation techniques to tune the K parameter and evaluate the performance of the KNN model more reliably.\n",
    "* Handle imbalanced datasets using techniques such as oversampling, undersampling, or using weighted distances to give more importance to minority classes."
   ]
  },
  {
   "cell_type": "markdown",
   "id": "2513bb64-01b2-4210-bbb8-d5d2b61654c0",
   "metadata": {},
   "source": []
  },
  {
   "cell_type": "markdown",
   "id": "b9b814bd-ad5e-46a6-8df1-b6df6a38d67c",
   "metadata": {},
   "source": [
    "# Q9. What is the difference between Euclidean distance and Manhattan distance in KNN?"
   ]
  },
  {
   "cell_type": "markdown",
   "id": "e9878bc7-6dd4-4d68-b283-3e0065353e62",
   "metadata": {},
   "source": [
    "## Euclidean Distance:\n",
    "\n",
    "* Also known as L2 distance or Euclidean norm.\n",
    "* Calculates the straight-line or shortest distance between two points in a Euclidean space.\n",
    "* It is derived from the Pythagorean theorem and represents the length of the line connecting two points in a Cartesian coordinate system.\n",
    "* The Euclidean distance between two points (x1, y1) and (x2, y2) in a 2D space is given by: \n",
    "\n",
    "#### √((x2 - x1)^2 + (y2 - y1)^2)\n",
    "\n",
    "* It considers the squared differences between corresponding coordinates and takes the square root of the sum.\n",
    "* Euclidean distance is influenced by both the magnitude and the direction of the differences between coordinates.\n",
    "\n",
    "## Manhattan Distance:\n",
    "\n",
    "* Also known as L1 distance or taxicab distance.\n",
    "* Calculates the distance between two points by summing the absolute differences of their coordinates.\n",
    "* It is named after the concept of measuring the distance a taxicab would travel in a city grid-like road network, where movement is restricted to horizontal and vertical paths.\n",
    "* The Manhattan distance between two points (x1, y1) and (x2, y2) in a 2D space is given by: \n",
    "\n",
    "#### |x2 - x1| + |y2 - y1|\n",
    "\n",
    "* It considers the absolute differences between corresponding coordinates and sums them up.\n",
    "* Manhattan distance is influenced only by the magnitude of the differences between coordinates and does not consider their direction."
   ]
  },
  {
   "cell_type": "code",
   "execution_count": null,
   "id": "a22baba8-d3c3-4c52-a9be-c94b9d8bd704",
   "metadata": {},
   "outputs": [],
   "source": []
  },
  {
   "cell_type": "markdown",
   "id": "cefea022-1be6-438f-a744-f7f15763499d",
   "metadata": {},
   "source": [
    "# Q10. What is the role of feature scaling in KNN?"
   ]
  },
  {
   "cell_type": "markdown",
   "id": "0ec7391b-70de-4454-bfc8-e93bb25bf8fa",
   "metadata": {},
   "source": [
    "Feature scaling is an important step in the KNN algorithm, as it can have a significant impact on the performance of the algorithm. The reason for this is that KNN algorithm calculates the distance between data points to identify the k nearest neighbors. If the features are not scaled properly, then features with larger ranges can dominate the distance calculation, leading to biased results. Therefore, it is essential to scale the features to ensure that each feature contributes equally to the distance calculation.\n",
    "\n",
    "There are different methods for feature scaling, including standardization and normalization. Standardization involves transforming the data so that it has zero mean and unit variance. This can be done by subtracting the mean of the feature from each value and dividing by the standard deviation. Normalization involves scaling the features so that they have a range of [0,1] or [-1,1]. This can be done by subtracting the minimum value of the feature from each value and dividing by the range of the feature.\n",
    "\n",
    "By scaling the features, we ensure that the features are on the same scale and have the same impact on the distance calculation. This can improve the accuracy of the KNN algorithm and help to identify the true nearest neighbors. Without proper feature scaling, the KNN algorithm may not perform well and may lead to incorrect predictions or classifications."
   ]
  },
  {
   "cell_type": "code",
   "execution_count": null,
   "id": "7a42c97e-fcfa-4a95-939e-495648925125",
   "metadata": {},
   "outputs": [],
   "source": []
  }
 ],
 "metadata": {
  "kernelspec": {
   "display_name": "Python 3 (ipykernel)",
   "language": "python",
   "name": "python3"
  },
  "language_info": {
   "codemirror_mode": {
    "name": "ipython",
    "version": 3
   },
   "file_extension": ".py",
   "mimetype": "text/x-python",
   "name": "python",
   "nbconvert_exporter": "python",
   "pygments_lexer": "ipython3",
   "version": "3.10.6"
  }
 },
 "nbformat": 4,
 "nbformat_minor": 5
}
