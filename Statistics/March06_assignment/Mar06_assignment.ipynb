{
 "cells": [
  {
   "cell_type": "markdown",
   "id": "3d18c151-6b3f-41cc-ab5a-940248fcb631",
   "metadata": {},
   "source": [
    "# Q1. What is Statistics?"
   ]
  },
  {
   "cell_type": "markdown",
   "id": "3da90f75-0e4f-4ac7-821d-4c504d3f6b32",
   "metadata": {},
   "source": [
    "Statistics is a branch of mathematics that deals with the collection, review, and analysis of data. It is known for drawing the conclusions of data with the use of quantified models. Statistical analysis is a process of collecting and evaluating data and summarizing it into mathematical form. \n",
    "\n",
    "Statistics can be defined as the study of the collection, analysis, interpretation, presentation, and organization of data. In simple words, it is a mathematical tool that is used to collect and summarize data.\n",
    "\n",
    "Uncertainty and fluctuation in different fields and parameters can be determined only through statistical analysis. These uncertainties are determined by the probability that plays a very important role in statistics. "
   ]
  },
  {
   "cell_type": "code",
   "execution_count": null,
   "id": "d62e63c0-ee74-4a14-ad29-04be463cd576",
   "metadata": {},
   "outputs": [],
   "source": []
  },
  {
   "cell_type": "markdown",
   "id": "5147d031-d889-4cde-82fc-f9ad4c9db6a1",
   "metadata": {},
   "source": [
    "# Q2. Define the different types of statistics and give an example of when each type might be used."
   ]
  },
  {
   "cell_type": "markdown",
   "id": "303585f2-a5ef-4c8e-914f-f51a23a22007",
   "metadata": {},
   "source": [
    "Statistics is mainly divided into the following two categories. \n",
    "1. Descriptive Statistics\n",
    "2. Inferential Statistics\n",
    "\n",
    "# Descriptive Statistics :\n",
    "\n",
    "In the descriptive Statistics, the Data is described in a summarized way. The summarization is done from the sample of the population using different parameters like Mean or standard deviation. Descriptive Statistics are a way of using charts, graphs, and summary measures to organize, represent, and explain a set of Data. \n",
    "\n",
    "# Inferential Statistics :\n",
    "\n",
    "In the Inferential Statistics, we try to interpret the Meaning of descriptive Statistics. After the Data has been collected, analyzed, and summarised we use Inferential Statistics to describe the Meaning of the collected Data. \n",
    "\n",
    "Inferential Statistics use the probability principle to assess whether trends contained in the research sample can be generalized to the larger population from which the sample originally comes.\n",
    "\n",
    "Inferential Statistics are intended to test hypotheses and investigate relationships between variables and can be used to make population predictions.\n",
    "\n",
    "Inferential Statistics are used to draw conclusions and inferences, i.e., to make valid generalizations from samples."
   ]
  },
  {
   "cell_type": "code",
   "execution_count": null,
   "id": "07cb209f-7ce8-4ee9-8830-9e1429663fc6",
   "metadata": {},
   "outputs": [],
   "source": []
  },
  {
   "cell_type": "markdown",
   "id": "f7f0c00c-dd7f-4ee2-930c-8b6689fece22",
   "metadata": {},
   "source": [
    "# Q3. What are the different types of data and how do they differ from each other? Provide an example of each type of data."
   ]
  },
  {
   "cell_type": "markdown",
   "id": "4a5cb8af-58de-41ba-bd08-180839cec805",
   "metadata": {},
   "source": [
    "Data is classified according to:\n",
    "1. Quantitative data\n",
    "2. Qualitative data\n",
    "\n",
    "# 1. Qualitative Data:\n",
    "Qualitative data is used to represent some characteristics or attributes of the data. The facts and figures depicted by the qualitative data cannot be computed. These properties reflect observable attributes. These are non-numerical in nature. The qualitative data characteristics are exploratory on a larger end than being conclusive in nature.\n",
    "\n",
    "# Types of Qualitative Data:\n",
    "1. Nominal Data:\n",
    "\n",
    "Nominal data is one of the types of qualitative information which helps to label the variables without providing the numerical value. Nominal data is also called the nominal scale. It cannot be ordered and measured.Examples of nominal data are letters, symbols, words, gender etc.\n",
    "\n",
    "Examples:\n",
    "\n",
    "Gender (Women, Men),  Eye color (Blue, Green, Brown)\n",
    "\n",
    "2. Ordinal Data: \n",
    "\n",
    "Ordinal data/variable is the specific type of data that follows a natural order.  The difference between the data values is not determined in the case of nominal data. For instance, ordinal data variable is mostly found in surveys, economics, questionnaires, and finance operations.\n",
    "\n",
    "Examples:\n",
    "\n",
    "Feedback is recorded in the form of ratings from 1-10.\n",
    "\n",
    "Education level: elementary school, high school, college.\n",
    "\n",
    "# 2. Quantitative Data:\n",
    "Quantitative data can be measured and is not just observable. The measurement of data is numerically recorded and represented. Calculations and interpretations can then be performed on the obtained results. Numerical data is indicated by quantitative data.\n",
    "\n",
    "# Types of Quantitavive data\n",
    "1. Discrete Data:\n",
    "\n",
    "Discrete data refers to the data values which can only attain certain specific values. Discrete data can’t attain a range of values. Discrete data can be represented using bar charts. For instance, ratings of a product made by the users can only be in discrete numbers. \n",
    "\n",
    "Examples:\n",
    "\n",
    "The number of students in a class.\n",
    "\n",
    "2. Continuous Data \n",
    "\n",
    "Continuous Data can contain values between a certain range that is within the highest and lowest values. The corresponding difference between the highest and lowest value of these intervals can be termed as the range of data. Continuous data can be tabulated in what is called a frequency distribution. The frequency distribution table can be computed for the range type of data. It can also be depicted using histograms.\n",
    "\n",
    "Examples\n",
    "\n",
    "Height and weight of a student,\n",
    "\n",
    "Daily temperature recordings of a place\n",
    "\n",
    "Wind speed measurement"
   ]
  },
  {
   "cell_type": "code",
   "execution_count": null,
   "id": "8a487e75-5d3d-4577-8466-2c92244c7bb0",
   "metadata": {},
   "outputs": [],
   "source": []
  },
  {
   "cell_type": "markdown",
   "id": "438e04f7-c605-46e9-96d8-ef4b1de33a29",
   "metadata": {},
   "source": [
    "# Q4. Categorise the following datasets with respect to quantitative and qualitative data types:\n",
    "\n",
    "(i) Grading in exam: A+, A, B+, B, C+, C, D, E\n",
    "\n",
    "(ii) Colour of mangoes: yellow, green, orange, red\n",
    "\n",
    "(iii) Height data of a class: [178.9, 179, 179.5, 176, 177.2, 178.3, 175.8,...]\n",
    "\n",
    "(iv) Number of mangoes exported by a farm: [500, 600, 478, 672, ...]"
   ]
  },
  {
   "cell_type": "markdown",
   "id": "c1f5018d-5962-4c84-8a74-4444b291e817",
   "metadata": {},
   "source": [
    "# Answer\n",
    "\n",
    "1. Qualitative Data type:\n",
    "\n",
    "(i) Grading in exam: A+, A, B+, B, C+, C, D, E -- Ordinal Qualitative Data\n",
    "\n",
    "(ii) Colour of mangoes: yellow, green, orange, red -- Nominal Qualitative Data\n",
    "\n",
    "2. Quantitative Data type:\n",
    "\n",
    "(iii) Height data of a class: [178.9, 179, 179.5, 176, 177.2, 178.3, 175.8,...] -- Continuous Quantitative Data\n",
    "\n",
    "(iv) Number of mangoes exported by a farm: [500, 600, 478, 672, ...] -- Discrete Quantitative Data"
   ]
  },
  {
   "cell_type": "code",
   "execution_count": null,
   "id": "558c7f48-7987-4afc-8cf4-a7b28c7c37b2",
   "metadata": {},
   "outputs": [],
   "source": []
  },
  {
   "cell_type": "markdown",
   "id": "d080432e-4cd8-4bec-9d5f-d8b4af91f1f0",
   "metadata": {},
   "source": [
    "# Q5. Explain the concept of levels of measurement and give an example of a variable for each level."
   ]
  },
  {
   "cell_type": "markdown",
   "id": "ce9b97e4-ab67-46d9-9dac-081733627ee2",
   "metadata": {},
   "source": [
    "# Answer\n",
    "In Statistics, the variables or numbers are defined and categorised using different scales of measurements. Each level of measurement scale has specific properties that determine the various use of statistical analysis.\n",
    "\n",
    "Levels of Measurements\n",
    "\n",
    "There are four different scales of measurement. The data can be defined as being one of the four scales. The four types of scales are:\n",
    "\n",
    "1. Nominal Scale\n",
    "2. Ordinal Scale\n",
    "3. Interval Scale\n",
    "4. Ratio Scale\n",
    "\n",
    "# 1.Nominal Scale\n",
    "A nominal scale is the 1st level of measurement scale in which the numbers serve as “tags” or “labels” to classify or identify the objects. A nominal scale usually deals with the non-numeric variables or the numbers that do not have any value.\n",
    "\n",
    "Characteristics of Nominal Scale\n",
    "\n",
    "1. A nominal scale variable is classified into two or more categories. In this measurement mechanism, the answer should fall into either of the classes.\n",
    "\n",
    "2. It is qualitative. The numbers are used here to identify the objects.\n",
    "\n",
    "3. The numbers don’t define the object characteristics. The only permissible aspect of numbers in the nominal scale is “counting.”\n",
    "\n",
    "Example:\n",
    "\n",
    "What is your gender?\n",
    "\n",
    "M- Male\n",
    "\n",
    "F- Female\n",
    "\n",
    "Here, the variables are used as tags, and the answer to this question should be either M or F.\n",
    "\n",
    "# 2. Ordinal Scale\n",
    "The ordinal scale is the 2nd level of measurement that reports the ordering and ranking of data without establishing the degree of variation between them. Ordinal represents the “order.” Ordinal data is known as qualitative data or categorical data.\n",
    "\n",
    "Characteristics of the Ordinal Scale:\n",
    "\n",
    "1. The ordinal scale shows the relative ranking of the variables\n",
    "\n",
    "2. It identifies and describes the magnitude of a variable\n",
    "\n",
    "3. Along with the information provided by the nominal scale, ordinal scales give the rankings of those variables\n",
    "\n",
    "Example:\n",
    "\n",
    "Ranking of school students – 1st, 2nd, 3rd, etc.\n",
    "\n",
    "Ratings in restaurants\n",
    "\n",
    "# 3. Interval Scale\n",
    "The interval scale is the 3rd level of measurement scale. It is defined as a quantitative measurement scale in which the difference between the two variables is meaningful. In other words, the variables are measured in an exact manner, not as in a relative way in which the presence of zero is arbitrary.\n",
    "\n",
    "Characteristics of Interval Scale:\n",
    "\n",
    "1. The interval scale is quantitative as it can quantify the difference between the values\n",
    "2. It allows calculating the mean and median of the variables\n",
    "3. To understand the difference between the variables, you can subtract the values between the variables\n",
    "4. The interval scale is the preferred scale in Statistics as it helps to assign any numerical values to arbitrary assessment such as feelings, calendar types, etc.\n",
    "\n",
    "# 4.Ratio Scale\n",
    "The ratio scale is the 4th level of measurement scale, which is quantitative. It is a type of variable measurement scale. It allows researchers to compare the differences or intervals. The ratio scale has a unique feature. It possesses the character of the origin or zero points.\n",
    "\n",
    "Characteristics of Ratio Scale:\n",
    "\n",
    "1. Ratio scale has a feature of absolute zero\n",
    "2. It doesn’t have negative numbers, because of its zero-point feature\n",
    "3. It affords unique opportunities for statistical analysis. The variables can be orderly added, subtracted, multiplied, divided. Mean, median, and mode can be calculated using the ratio scale.\n",
    "4. Ratio scale has unique and useful properties. One such feature is that it allows unit conversions like kilogram – calories, gram – calories, etc\n"
   ]
  },
  {
   "cell_type": "code",
   "execution_count": null,
   "id": "a6a11f5a-f0cf-48ac-8204-2fdebeb0d027",
   "metadata": {},
   "outputs": [],
   "source": []
  },
  {
   "cell_type": "markdown",
   "id": "f07529bb-dd7a-4385-a45f-83eedb0b2165",
   "metadata": {},
   "source": [
    "# Q6. Why is it important to understand the level of measurement when analyzing data? Provide an example to illustrate your answer."
   ]
  },
  {
   "cell_type": "markdown",
   "id": "2877ad0b-7588-4bb4-92f6-b9a307ab67d9",
   "metadata": {},
   "source": [
    "\n",
    "Understanding the level of measurement of a variable is important because it determines the types of statistical analyses that can be performed and the appropriate interpretation of the results. In other words, the level of measurement helps researchers to identify the appropriate statistical procedures and tests to use when analyzing data. Using the wrong statistical procedure for a given level of measurement can result in misleading or inaccurate conclusions.\n",
    "\n",
    "For example, let's consider a study that examines the relationship between income and job satisfaction among employees in a company. The income variable is a ratio-level variable because it has a true zero point (no income) and equal intervals between values. In contrast, job satisfaction is an ordinal-level variable because it has a specific order or rank, but unequal or non-meaningful differences between categories. If the researcher were to use a correlation analysis to examine the relationship between these two variables, the result would be incorrect because correlation is only appropriate for ratio-level variables. Instead, a more appropriate statistical test for analyzing the relationship between a ratio-level and ordinal-level variable would be a chi-squared test or a t-test.\n",
    "\n",
    "In summary, understanding the level of measurement of variables is crucial for selecting appropriate statistical methods and interpreting results accurately in data analysis."
   ]
  },
  {
   "cell_type": "code",
   "execution_count": null,
   "id": "cba206fc-a53d-4e42-a08b-1040bcf1825d",
   "metadata": {},
   "outputs": [],
   "source": []
  },
  {
   "cell_type": "markdown",
   "id": "abe660ed-720e-404b-a61c-a835efe0e104",
   "metadata": {},
   "source": [
    "# Q7. How nominal data type is different from ordinal data type."
   ]
  },
  {
   "cell_type": "markdown",
   "id": "d385b844-a997-43d8-bd7f-5c9c98dfa5c3",
   "metadata": {},
   "source": [
    "Answer\n",
    "\n",
    "1. Nominal data is a group of non-parametric variables, whereas Ordinal data is a group of non-parametric ordered variables.\n",
    "2. Ordinal data is analyzed by mode, median, quartiles, and percentile, whereas nominal data is analyzed by grouping variables into categories and calculating the distribution mode.\n",
    "3. Nominal data are categorical, whereas Ordinal data are both categorical and quantitative.\n",
    "4. Both nominal and ordinal data can be analyzed using percentage and mode."
   ]
  },
  {
   "cell_type": "code",
   "execution_count": null,
   "id": "f9cefe3e-b3f8-41ee-9d86-9b436cbf2215",
   "metadata": {},
   "outputs": [],
   "source": []
  },
  {
   "cell_type": "markdown",
   "id": "f637e277-9d5a-4271-8f6f-974989f45311",
   "metadata": {},
   "source": [
    "# Q8. Which type of plot can be used to display data in terms of range?"
   ]
  },
  {
   "cell_type": "markdown",
   "id": "84fa8612-a291-4ed4-93f2-c1a99fcaa85c",
   "metadata": {},
   "source": [
    "# Answer\n",
    "A histogram is a graphical representation of data points organized into user-specified ranges. Similar in appearance to a bar graph, the histogram condenses a data series into an easily interpreted visual by taking many data points and grouping them into logical ranges or bins.\n",
    "\n",
    "Characteristics :\n",
    "1. A histogram is a bar graph-like representation of data that buckets a range of classes into columns along the horizontal x-axis.\n",
    "2. The vertical y-axis represents the number count or percentage of occurrences in the data for each column\n",
    "3. Columns can be used to visualize patterns of data distributions."
   ]
  },
  {
   "cell_type": "code",
   "execution_count": null,
   "id": "bdb4f224-713c-457b-8f9f-5c84c815a5a1",
   "metadata": {},
   "outputs": [],
   "source": []
  },
  {
   "cell_type": "markdown",
   "id": "b94fc5da-5a27-4eb1-b789-dcfd346f1b25",
   "metadata": {},
   "source": [
    "# Q9. Describe the difference between descriptive and inferential statistics. Give an example of each type of statistics and explain how they are used."
   ]
  },
  {
   "cell_type": "markdown",
   "id": "71f5c6ca-49a7-4399-b04a-40bbbeaf812c",
   "metadata": {},
   "source": [
    "# Answer\n",
    "\n",
    "The difference between descriptive and inferential statistics can be drawn clearly on the following grounds:\n",
    "\n",
    "1. Descriptive Statistics is a discipline which is concerned with describing the population under study. Inferential Statistics is a type of statistics; that focuses on drawing conclusions about the population, on the basis of sample analysis and observation.\n",
    "\n",
    "2. Descriptive Statistics collects, organises, analyzes and presents data in a meaningful way. On the contrary, Inferential Statistics, compares data, test hypothesis and make predictions of the future outcomes.\n",
    "\n",
    "3. There is a diagrammatic or tabular representation of final result in descriptive statistics whereas the final result is displayed in the form of probability.\n",
    "\n",
    "4. Descriptive statistics describes a situation while inferential statistics explains the likelihood of the occurrence of an event.\n",
    "\n",
    "5. Descriptive statistics explains the data, which is already known, to summarise sample. Conversely, inferential statistics attempts to reach the conclusion to learn about the population; that extends beyond the data available.\n",
    "\n",
    "# Example of Descriptive Statistic:\n",
    "Suppose the scores of 100 students belonging to a specific country are available. The performance of these students needs to be examined. This data by itself will not yield any valuable results. However, by using descriptive statistics, the spread of the marks can be obtained thus, giving a clear idea regarding the performance of each student.\n",
    "\n",
    "# Example of Inferential Statistic:\n",
    "Now suppose the scores of the students of an entire country need to be examined. Using a sample of, say 100 students, inferential statistics is used to make generalizations about the population.\n"
   ]
  },
  {
   "cell_type": "code",
   "execution_count": null,
   "id": "28a2bcc4-a868-4f7e-8a00-3f00251d6fe9",
   "metadata": {},
   "outputs": [],
   "source": []
  },
  {
   "cell_type": "markdown",
   "id": "56242fef-dddf-4913-bbea-eba14ed00955",
   "metadata": {},
   "source": [
    "# Q10. What are some common measures of central tendency and variability used in statistics? Explain how each measure can be used to describe a dataset."
   ]
  },
  {
   "attachments": {
    "5c6e1d9c-a243-4246-90d9-fafd4654bae2.png": {
     "image/png": "[encoded data removed]"
    },
    "a999f441-2977-4eab-80c6-f3d6188f586c.png": {
     "image/png": "[encoded data removed]"
    }
   },
   "cell_type": "markdown",
   "id": "f99b5a10-0ebc-438f-a528-f48d62f4bc6d",
   "metadata": {},
   "source": [
    "# Answer\n",
    "\n",
    "\n",
    "Measures of central tendency and variability are two types of descriptive statistics that are commonly used to summarize and describe a dataset.\n",
    "\n",
    "The main measures of central tendency include the mean, median, and mode, while the main measures of variability include the range, variance, and standard deviation.\n",
    "\n",
    "# Measure of Central Tendency:\n",
    "1. Arithmetic Mean: \n",
    "\n",
    "It is nothing but the average of a dataset. It is calculated by adding all the values and then dividing them by the no. of observations.\n",
    "\n",
    "Formula: Mean = ∑x/n\n",
    "\n",
    "\n",
    "2. Median: \n",
    "\n",
    "The median is the middle value in distribution when the values are arranged in an order, say ascending or descending order. It is used to measure central tendency when the datasheet is not huge.\n",
    "\n",
    "In a distribution with an odd number of observations, the middle value is the median. When the distribution is with an even number of observations, the median is calculated by calculating the mean of the two middle values.\n",
    "\n",
    "3. Mode:\n",
    "\n",
    "Mode is the most frequently occurring value in a distribution. It is possible to have more than one mode in a distribution. Such distributions are called bimodal or multimodal. \n",
    "\n",
    "# Variation\n",
    "1. Range: \n",
    "\n",
    "The range is a statistical measure of dispersion, or how much the data is stretched out. It is the simple difference between the largest and the smallest value in a set of values.\n",
    "\n",
    "Formula: Range= maximum value- minimum value\n",
    "\n",
    "2. Variance:\n",
    "\n",
    "In a distribution, variance is the average squared deviation from the population mean. Variance reflects the degree of spread in the data set. The more spread the data, the larger the variance is concerning the mean.\n",
    "\n",
    "![image.png](attachment:5c6e1d9c-a243-4246-90d9-fafd4654bae2.png)\n",
    "\n",
    "3. Standard Deviation:\n",
    "\n",
    "Standard deviation is the mean of the variability of the distribution. It indicates on average, how far every single value lies from the mean. It is the square root of the variance.\n",
    "\n",
    "![image.png](attachment:a999f441-2977-4eab-80c6-f3d6188f586c.png)"
   ]
  },
  {
   "cell_type": "code",
   "execution_count": null,
   "id": "dc565ac8-ddee-4d56-8ad0-968b8ffdd8b0",
   "metadata": {},
   "outputs": [],
   "source": []
  }
 ],
 "metadata": {
  "kernelspec": {
   "display_name": "Python 3 (ipykernel)",
   "language": "python",
   "name": "python3"
  },
  "language_info": {
   "codemirror_mode": {
    "name": "ipython",
    "version": 3
   },
   "file_extension": ".py",
   "mimetype": "text/x-python",
   "name": "python",
   "nbconvert_exporter": "python",
   "pygments_lexer": "ipython3",
   "version": "3.10.6"
  }
 },
 "nbformat": 4,
 "nbformat_minor": 5
}
