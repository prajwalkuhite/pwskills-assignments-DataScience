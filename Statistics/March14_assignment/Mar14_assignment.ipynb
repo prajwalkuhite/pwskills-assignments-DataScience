{
 "cells": [
  {
   "cell_type": "markdown",
   "id": "09d80bfa-b1e9-41cf-90d0-b3ba877e4e01",
   "metadata": {},
   "source": [
    "# Q1. Write a Python function that takes in two arrays of data and calculates the F-value for a variance ratio test. The function should return the F-value and the corresponding p-value for the test."
   ]
  },
  {
   "cell_type": "code",
   "execution_count": 5,
   "id": "d72b5ead-eee5-4843-8526-d5d892d7a677",
   "metadata": {},
   "outputs": [],
   "source": [
    "# so\n",
    "import scipy.stats as stat\n",
    "import numpy as np\n",
    "\n",
    "array1 = [1,2,3,4,5]\n",
    "array2 = [3,4,5,6,7]\n",
    "\n",
    "def variance_ratio_test(array1,array2):\n",
    "    \n",
    "    # calculating variance\n",
    "    var1 = np.var(array1)\n",
    "    var2 = np.var(array2)\n",
    "    \n",
    "    # calculating lenght of items in each array\n",
    "    n1 = len(array1)\n",
    "    n2 = len(array2)\n",
    "    \n",
    "    # Calculating F values along with degrees of freedom    \n",
    "    if var1 >= var2:\n",
    "        f_statistic = var1/var2\n",
    "        dfn = n1-1\n",
    "        dfd = n2-1        \n",
    "    else:\n",
    "        f_statistic = var2/var1\n",
    "        dfn = n2-1\n",
    "        dfd = n1-1\n",
    "    \n",
    "    p_value = 1 - stat.f.cdf(f_statistic,dfn,dfd)\n",
    "    \n",
    "    return f_statistic, p_value"
   ]
  },
  {
   "cell_type": "code",
   "execution_count": 6,
   "id": "6281696f-dfdd-4ec5-98f9-7bbd476bca1f",
   "metadata": {},
   "outputs": [
    {
     "data": {
      "text/plain": [
       "(1.0, 0.5)"
      ]
     },
     "execution_count": 6,
     "metadata": {},
     "output_type": "execute_result"
    }
   ],
   "source": [
    "variance_ratio_test(array1,array2)"
   ]
  },
  {
   "cell_type": "code",
   "execution_count": null,
   "id": "52e2d3ff-7b65-4ccd-9d13-8cad42df073b",
   "metadata": {},
   "outputs": [],
   "source": []
  },
  {
   "cell_type": "markdown",
   "id": "dfeb9502-3d8a-44be-8ff4-344ca41c7be5",
   "metadata": {},
   "source": [
    "# Q2. Given a significance level of 0.05 and the degrees of freedom for the numerator and denominator of an F-distribution, write a Python function that returns the critical F-value for a two-tailed test."
   ]
  },
  {
   "cell_type": "markdown",
   "id": "64ab23bc-5016-4644-978c-0bfd86799ef4",
   "metadata": {},
   "source": [
    "### For a two tailed test there will be two critical F values because F distribution is not symmetric"
   ]
  },
  {
   "cell_type": "code",
   "execution_count": 7,
   "id": "177af545-5857-4743-b541-9b8ec4b8dc56",
   "metadata": {},
   "outputs": [],
   "source": [
    "import scipy.stats as stat\n",
    "import numpy as np\n",
    "\n",
    "def critical_f_value(alpha, dfn, dfd):\n",
    "   \n",
    "    # Calculating critical values for two tailed F-test\n",
    "    F_crit1 = stat.f.ppf(alpha/2, dfn, dfd)\n",
    "    F_crit2 = stat.f.ppf(1-alpha/2,dfn, dfd)\n",
    "\n",
    "    return F_crit1, F_crit2"
   ]
  },
  {
   "cell_type": "code",
   "execution_count": 8,
   "id": "04a83267-0be9-404a-ad0b-db69659c5621",
   "metadata": {},
   "outputs": [
    {
     "name": "stdout",
     "output_type": "stream",
     "text": [
      "(0.2594107151696225, 4.295126960172586)\n"
     ]
    }
   ],
   "source": [
    "alpha = 0.05\n",
    "dfn = 10\n",
    "dfd = 8\n",
    "\n",
    "answer = critical_f_value(alpha,dfn,dfd)\n",
    "print(answer)"
   ]
  },
  {
   "cell_type": "code",
   "execution_count": null,
   "id": "699fbd31-9193-4990-957d-84ccad829dcc",
   "metadata": {},
   "outputs": [],
   "source": []
  },
  {
   "cell_type": "markdown",
   "id": "56497db5-6274-451e-a48b-1e3d899f47fb",
   "metadata": {},
   "source": [
    "# Q3. Write a Python program that generates random samples from two normal distributions with known variances and uses an F-test to determine if the variances are equal. The program should output the F- value, degrees of freedom, and p-value for the test."
   ]
  },
  {
   "cell_type": "code",
   "execution_count": 1,
   "id": "28532b71-9094-4d8d-93e2-4b14cc8ee160",
   "metadata": {},
   "outputs": [
    {
     "name": "stdout",
     "output_type": "stream",
     "text": [
      "Accept the Null Hypothesis\n",
      "Conculsion : Variance of two samples population is same\n"
     ]
    }
   ],
   "source": [
    "import numpy as np\n",
    "import scipy.stats as stat\n",
    "\n",
    "\n",
    "np.random.seed(100)\n",
    "\n",
    "# Generate random samples from two normal distributions with known variances\n",
    "n1 = 40\n",
    "n2 = 50\n",
    "mean1 = 10\n",
    "mean2 = 15\n",
    "var1 = 6\n",
    "var2 = 4\n",
    "\n",
    "sample1 = np.random.normal(mean1, np.sqrt(var1), n1)\n",
    "sample2 = np.random.normal(mean2, np.sqrt(var2), n2)\n",
    "\n",
    "# Calculate the F-value and p-value for the variance ratio test\n",
    "F_value = np.var(sample1) / np.var(sample2)\n",
    "dfn = n1 - 1\n",
    "dfd = n2 - 1\n",
    "p_value = 1 - stat.f.cdf(F_value,dfn,dfd)\n",
    "\n",
    "# Now conducting test \n",
    "\n",
    "null_hypothesis = \"Variance of two samples population is same\"\n",
    "alternate_hypothesis = \"Variance of both samples population is different\"\n",
    "\n",
    "# we have\n",
    "alpha = 0.05\n",
    "\n",
    "# Calculating critical values for two tailed F-test\n",
    "F_crit1 = stat.f.ppf(alpha/2, dfn, dfd)\n",
    "F_crit2 = stat.f.ppf(1-alpha/2,dfn, dfd)\n",
    "\n",
    "\n",
    "# Conclusion \n",
    "if (F_value < F_crit1) or (F_value > F_crit2):\n",
    "    print('Reject the Null Hypothesis')\n",
    "    print(f'Conculsion : {alternate_hypothesis}')\n",
    "else:\n",
    "    print('Accept the Null Hypothesis')\n",
    "    print(f'Conculsion : {null_hypothesis}')"
   ]
  },
  {
   "cell_type": "code",
   "execution_count": null,
   "id": "a34fe4f6-82c1-4aec-9ef0-92bf830c6231",
   "metadata": {},
   "outputs": [],
   "source": []
  },
  {
   "cell_type": "markdown",
   "id": "ccd267a4-e693-44b1-b490-55f6a8d53b0d",
   "metadata": {},
   "source": [
    "# Q4.The variances of two populations are known to be 10 and 15. A sample of 12 observations is taken from each population. Conduct an F-test at the 5% significance level to determine if the variances are significantly different."
   ]
  },
  {
   "cell_type": "code",
   "execution_count": 7,
   "id": "92b17d68-58c0-4023-a795-477de8eb4c12",
   "metadata": {},
   "outputs": [
    {
     "name": "stdout",
     "output_type": "stream",
     "text": [
      "FAILED to reject the Null Hypothesis\n",
      "Conculsion : Variance of two samples population is same\n"
     ]
    }
   ],
   "source": [
    "import scipy.stats as stat\n",
    "import numpy as np\n",
    "\n",
    "# we have \n",
    "var1 = 10\n",
    "var2 = 15\n",
    "n1 = 12\n",
    "n2 = 12\n",
    "alpha = 0.05\n",
    "\n",
    "F_value = var1/var2\n",
    "dfn = n1 - 1\n",
    "dfd = n2 - 1\n",
    "P_value = stat.f.cdf(F_value,dfn,dfd)  # for one tail only\n",
    "p_value = 2*min(P_value,1-P_value)    # However, since we're\n",
    "                                      # interested in whether the variances \n",
    "                                      # are different from each other (two-tailed test), \n",
    "                                      # we can convert the one-tailed p-value to \n",
    "                                      # a two-tailed p-value by multiplying it by 2.\n",
    "\n",
    "# Now conducting test\n",
    "\n",
    "null_hypothesis = \"Variance of two samples population is same\"\n",
    "alternate_hypothesis = \"Variance of both samples population is different\"\n",
    "\n",
    "\n",
    "alpha = 0.05\n",
    "\n",
    "# Calculates critical values for two tailed F-test\n",
    "F_crit1 = stat.f.ppf(alpha/2, dfn, dfd)\n",
    "F_crit2 = stat.f.ppf(1-alpha/2,dfn, dfd)\n",
    "\n",
    "\n",
    "# Conclusion \n",
    "if (F_value < F_crit1) or (F_value > F_crit2):\n",
    "    print('Reject the Null Hypothesis')\n",
    "    print(f'Conculsion : {alternate_hypothesis}')\n",
    "else:\n",
    "    print('FAILED to reject the Null Hypothesis')\n",
    "    print(f'Conculsion : {null_hypothesis}')"
   ]
  },
  {
   "cell_type": "code",
   "execution_count": null,
   "id": "e1c964e2-b647-496e-9685-62e365beec8e",
   "metadata": {},
   "outputs": [],
   "source": []
  },
  {
   "cell_type": "markdown",
   "id": "7d793246-26e9-4219-ac31-9c8798c35232",
   "metadata": {},
   "source": [
    "# Q5. A manufacturer claims that the variance of the diameter of a certain product is 0.005. A sample of 25 products is taken, and the sample variance is found to be 0.006. Conduct an F-test at the 1% significance level to determine if the claim is justified."
   ]
  },
  {
   "cell_type": "code",
   "execution_count": 36,
   "id": "5f89495b-7dcc-4fee-a31c-cd6da558dc0a",
   "metadata": {},
   "outputs": [
    {
     "name": "stdout",
     "output_type": "stream",
     "text": [
      "FAILED to reject the Null Hypothesis\n",
      "Conculsion : The variance of the diameter of the product is 0.005\n"
     ]
    }
   ],
   "source": [
    "import scipy.stats as stat\n",
    "\n",
    "# we have\n",
    "alpha = 0.01\n",
    "sigma2 = 0.005 # pop variance\n",
    "s2 = 0.006     # sample variance\n",
    "n = 25  # sample size\n",
    "\n",
    "\n",
    "null_hypothesis = \"The variance of the diameter of the product is 0.005\"\n",
    "alternate_hypothesis = \"The variance of the diameter of the product is NOT 0.005.\"\n",
    "\n",
    "# calculate the F-statistic\n",
    "F_stat = s2 / sigma2\n",
    "\n",
    "# Now degree of freedom\n",
    "dfn = n - 1\n",
    "dfd = n - 1\n",
    "\n",
    "# p-value\n",
    "P_value = stat.f.cdf(F_stat,dfn,dfd)\n",
    "p_value = 2*min(P_value,1-P_value)\n",
    "\n",
    "# Calculates critical values for two tailed F-test\n",
    "alpha = 0.01\n",
    "F_crit1 = stat.f.ppf(alpha/2, dfn, dfd)\n",
    "F_crit2 = stat.f.ppf(1-alpha/2,dfn, dfd)\n",
    "\n",
    "# Now just compare\n",
    "if (F_value < F_crit1) or (F_value > F_crit2):\n",
    "    print('Reject the Null Hypothesis')\n",
    "    print(f'Conculsion : {alternate_hypothesis}')\n",
    "else:\n",
    "    print('FAILED to reject the Null Hypothesis')\n",
    "    print(f'Conculsion : {null_hypothesis}')"
   ]
  },
  {
   "cell_type": "code",
   "execution_count": null,
   "id": "df941e3f-8813-4554-9131-292ebdd0800a",
   "metadata": {},
   "outputs": [],
   "source": []
  },
  {
   "cell_type": "markdown",
   "id": "0cdece03-1da2-4138-91ef-18f4da627a93",
   "metadata": {},
   "source": [
    "# Q6. Write a Python function that takes in the degrees of freedom for the numerator and denominator of an F-distribution and calculates the mean and variance of the distribution. The function should return the mean and variance as a tuple."
   ]
  },
  {
   "cell_type": "code",
   "execution_count": null,
   "id": "04ab1f51-87d6-43c6-9bbb-1f38279ef9a9",
   "metadata": {},
   "outputs": [],
   "source": []
  },
  {
   "cell_type": "code",
   "execution_count": null,
   "id": "0dc3a9f2-8c3d-40bc-88aa-8e6713f39edc",
   "metadata": {},
   "outputs": [],
   "source": []
  },
  {
   "cell_type": "markdown",
   "id": "75b65f78-fb42-49d8-9c09-807e9537b778",
   "metadata": {},
   "source": [
    "# Q7. A random sample of 10 measurements is taken from a normal population with unknown variance. The sample variance is found to be 25. Another random sample of 15 measurements is taken from another normal population with unknown variance, and the sample variance is found to be 20. Conduct an F-test at the 10% significance level to determine if the variances are significantly different."
   ]
  },
  {
   "cell_type": "code",
   "execution_count": 44,
   "id": "99259842-e678-4d7d-9284-6d123a67c283",
   "metadata": {},
   "outputs": [
    {
     "name": "stdout",
     "output_type": "stream",
     "text": [
      "FAILED to reject the Null Hypothesis\n",
      "Conculsion : Variances are similar\n"
     ]
    }
   ],
   "source": [
    "import numpy as np\n",
    "import scipy.stats as stat\n",
    "\n",
    "# we have\n",
    "n1 = 10\n",
    "n2 = 15\n",
    "df1 = n1-1\n",
    "df2 = n2-1\n",
    "alpha = 0.01\n",
    "var1 = 25             # Variance for each group\n",
    "var2 = 20\n",
    "\n",
    "\n",
    "null_hypothesis = \"Variances are similar\"\n",
    "alternate_hypothesis =  \"Variances are significantly different\"\n",
    "\n",
    "# Now F-statistics\n",
    "f_stat = var1/var2\n",
    "P_value = stat.f.cdf(f_stat, df1, df2) \n",
    "p_value = 2*min(P_value,1-P_value)\n",
    "\n",
    "# Calculate F-critical\n",
    "F_critical1 = stat.f.ppf(alpha,df1, df2)\n",
    "F_critical2 = stat.f.ppf(1-alpha,df1, df2)\n",
    "\n",
    "# just comparing now\n",
    "if (F_value < F_critical1) or (F_value > F_critical2):\n",
    "    print('Reject the Null Hypothesis')\n",
    "    print(f'Conculsion : {alternate_hypothesis}')\n",
    "else:\n",
    "    print('FAILED to reject the Null Hypothesis')\n",
    "    print(f'Conculsion : {null_hypothesis}')"
   ]
  },
  {
   "cell_type": "code",
   "execution_count": null,
   "id": "5ee54b3a-6324-4220-acc8-c06737859abb",
   "metadata": {},
   "outputs": [],
   "source": []
  },
  {
   "cell_type": "markdown",
   "id": "a5d0ac3f-687a-4139-af4b-d7353d27e5a1",
   "metadata": {},
   "source": [
    "# Q8. The following data represent the waiting times in minutes at two different restaurants on a Saturday night: Restaurant A: 24, 25, 28, 23, 22, 20, 27; Restaurant B: 31, 33, 35, 30, 32, 36. Conduct an F-test at the 5% significance level to determine if the variances are significantly different."
   ]
  },
  {
   "cell_type": "code",
   "execution_count": 45,
   "id": "e7e83d43-49ce-4f1e-972e-4f5d7c9eeff9",
   "metadata": {},
   "outputs": [
    {
     "name": "stdout",
     "output_type": "stream",
     "text": [
      "FAILED to reject the Null Hypothesis\n",
      "Conculsion : Variances are similar\n"
     ]
    }
   ],
   "source": [
    "import scipy.stats as stat\n",
    "import numpy as np\n",
    "\n",
    "# we have Restaurant data\n",
    "A = [24, 25, 28, 23, 22, 20, 27]\n",
    "B = [31, 33, 35, 30, 32, 36]\n",
    "alpha = 0.05\n",
    "\n",
    "# Now\n",
    "null_hypothesis = \"Variances are similar\"\n",
    "alternate_hypothesis =  \"Variances are significantly different\"\n",
    "\n",
    "n1 = len(A)\n",
    "n2 = len(B)\n",
    "\n",
    "varA = np.var(A)\n",
    "varB = np.var(B)\n",
    "\n",
    "# Now F-statistic\n",
    "if varA >= varB:\n",
    "    F_stat = varA/varB\n",
    "    dfn = n1 - 1\n",
    "    dfd = n2 - 1\n",
    "else:\n",
    "    F_stat = varB/varA\n",
    "    dfn = n2 - 1\n",
    "    dfd = n1 - 1\n",
    "    \n",
    "# Now calculing f-critical\n",
    "F_critical_1 = stat.f.ppf(alpha,dfn,dfd)\n",
    "F_critical_2 = stat.f.ppf(1-alpha,dfn,dfd)\n",
    "\n",
    "# just comparing now\n",
    "if (F_value < F_critical_1) or (F_value > F_critical_2):\n",
    "    print('Reject the Null Hypothesis')\n",
    "    print(f'Conculsion : {alternate_hypothesis}')\n",
    "else:\n",
    "    print('FAILED to reject the Null Hypothesis')\n",
    "    print(f'Conculsion : {null_hypothesis}')"
   ]
  },
  {
   "cell_type": "code",
   "execution_count": null,
   "id": "63dfc2ae-af2f-46ab-a770-ab13d2fcc1fd",
   "metadata": {},
   "outputs": [],
   "source": []
  },
  {
   "cell_type": "markdown",
   "id": "b7ad6995-4e13-4c96-bba4-75b532da2e56",
   "metadata": {},
   "source": [
    "# Q9. The following data represent the test scores of two groups of students: Group A: 80, 85, 90, 92, 87, 83; Group B: 75, 78, 82, 79, 81, 84. Conduct an F-test at the 1% significance level to determine if the variances are significantly different."
   ]
  },
  {
   "cell_type": "code",
   "execution_count": 53,
   "id": "e712f3e5-73a8-41bc-b2f0-4e9af0e86346",
   "metadata": {},
   "outputs": [
    {
     "name": "stdout",
     "output_type": "stream",
     "text": [
      "FAILED to reject the Null Hypothesis\n",
      "Conculsion : Variances are similar\n"
     ]
    }
   ],
   "source": [
    "import scipy.stats as stat\n",
    "import numpy as np\n",
    "\n",
    "# we have students data\n",
    "A = [80, 85, 90, 92, 87, 83]\n",
    "B = [75, 78, 82, 79, 81, 84]\n",
    "alpha = 0.01\n",
    "\n",
    "# Now\n",
    "null_hypothesis = \"Variances are similar\"\n",
    "alternate_hypothesis =  \"Variances are significantly different\"\n",
    "\n",
    "n1 = len(A)\n",
    "n2 = len(B)\n",
    "\n",
    "varA = np.var(A)\n",
    "varB = np.var(B)\n",
    "\n",
    "# Now F-statistic\n",
    "if varA >= varB:\n",
    "    F_stat = varA/varB\n",
    "    dfn = n1 - 1\n",
    "    dfd = n2 - 1\n",
    "else:\n",
    "    F_stat = varB/varA\n",
    "    dfn = n2 - 1\n",
    "    dfd = n1 - 1\n",
    "    \n",
    "# Now calculing f-critical\n",
    "F_critical = stat.f.ppf(1-alpha,dfn,dfd)\n",
    "\n",
    "# just comparing now\n",
    "if (F_value > F_critical_2):\n",
    "    print('Reject the Null Hypothesis')\n",
    "    print(f'Conculsion : {alternate_hypothesis}')\n",
    "else:\n",
    "    print('FAILED to reject the Null Hypothesis')\n",
    "    print(f'Conculsion : {null_hypothesis}')\n"
   ]
  },
  {
   "cell_type": "code",
   "execution_count": null,
   "id": "6d61880f-a31f-45f6-98be-3ced7c4f987f",
   "metadata": {},
   "outputs": [],
   "source": []
  }
 ],
 "metadata": {
  "kernelspec": {
   "display_name": "Python 3 (ipykernel)",
   "language": "python",
   "name": "python3"
  },
  "language_info": {
   "codemirror_mode": {
    "name": "ipython",
    "version": 3
   },
   "file_extension": ".py",
   "mimetype": "text/x-python",
   "name": "python",
   "nbconvert_exporter": "python",
   "pygments_lexer": "ipython3",
   "version": "3.10.6"
  }
 },
 "nbformat": 4,
 "nbformat_minor": 5
}
