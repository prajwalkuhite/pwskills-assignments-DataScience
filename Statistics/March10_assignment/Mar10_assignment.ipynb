{
 "cells": [
  {
   "cell_type": "markdown",
   "id": "81614659-edef-47c7-b3a4-d01c9819ddab",
   "metadata": {},
   "source": [
    "# Q1: What is Estimation Statistics? Explain point estimate and interval estimate."
   ]
  },
  {
   "cell_type": "markdown",
   "id": "79799f32-81d3-410b-bdcc-402256b437e3",
   "metadata": {},
   "source": [
    "Estimation statistics is a branch of statistics that involves using sample data to make inferences about population parameters. In other words, it is a method of estimating the value of an unknown parameter of a population based on the information obtained from a sample of that population.\n",
    "\n",
    "There are two main types of estimates: point estimates and interval estimates.\n",
    "\n",
    "1. A point estimate is a single value that is used to estimate an unknown population parameter. For example, if we want to estimate the mean height of a population based on a sample, we might calculate the sample mean and use that as our point estimate for the population mean.\n",
    "\n",
    "2. An interval estimate, on the other hand, provides a range of values that is likely to contain the true population parameter. For example, we might calculate a confidence interval for the population mean, which is a range of values that is likely to contain the true population mean with a certain degree of confidence. The confidence interval is calculated based on the sample mean, sample size, and the variability of the sample."
   ]
  },
  {
   "cell_type": "code",
   "execution_count": null,
   "id": "7c2f3f58-5e4a-4d24-831c-9a759ec28bfb",
   "metadata": {},
   "outputs": [],
   "source": []
  },
  {
   "cell_type": "markdown",
   "id": "6ff28f9f-81b4-40ca-8fd9-2e0f944541f4",
   "metadata": {},
   "source": [
    "# Q2. Write a Python function to estimate the population mean using a sample mean and standard deviation."
   ]
  },
  {
   "cell_type": "code",
   "execution_count": 21,
   "id": "f9e40017-9364-441c-8f5d-dd0e51bf52ef",
   "metadata": {},
   "outputs": [],
   "source": [
    "import math\n",
    "import scipy.stats as stats\n",
    "import numpy as np\n",
    "\n",
    "def estimate_pop_mean(samples, confidence_level=0.95):\n",
    "    \n",
    "    sample_mean = sum(samples) / len(samples)\n",
    "    sample_std = math.sqrt(sum([(x - sample_mean)**2 for x in samples]) / (len(samples) - 1))\n",
    "\n",
    "    alpha = 1 - confidence_level\n",
    "    dof = len(samples) - 1\n",
    "    t_value = stats.t.ppf(1 - alpha/2, dof)\n",
    "\n",
    "    std_error = sample_std / math.sqrt(len(samples))\n",
    "    margin_of_error = t_value * std_error\n",
    "\n",
    "    lower_bound = sample_mean - margin_of_error\n",
    "    upper_bound = sample_mean + margin_of_error\n",
    "\n",
    "    return (lower_bound, upper_bound)"
   ]
  },
  {
   "cell_type": "code",
   "execution_count": 22,
   "id": "9e159641-e5c7-448c-b10a-15eedc43a230",
   "metadata": {},
   "outputs": [
    {
     "data": {
      "text/plain": [
       "(42.45221160446256, 54.88112172887077)"
      ]
     },
     "execution_count": 22,
     "metadata": {},
     "output_type": "execute_result"
    }
   ],
   "source": [
    "estimate_pop_mean([48,56,45,44,56,43])"
   ]
  },
  {
   "cell_type": "markdown",
   "id": "001c2d1d-38d7-4662-963a-f0278dbd4fae",
   "metadata": {},
   "source": [
    "# Q3: What is Hypothesis testing? Why is it used? State the importance of Hypothesis testing."
   ]
  },
  {
   "cell_type": "markdown",
   "id": "5d06fb56-876b-494d-a741-27edc38ad435",
   "metadata": {},
   "source": [
    "Hypothesis testing is a statistical method used to determine whether a hypothesis about a population parameter is supported by the evidence provided by a sample of data. It is an essential tool in scientific research, as it allows researchers to draw conclusions about the population based on a sample of data.\n",
    "\n",
    "#### Importance:\n",
    "1. Provides a systematic and objective way to evaluate evidence: Hypothesis testing provides a structured framework to evaluate whether a hypothesis about a population parameter is supported by the evidence provided by a sample of data. This allows researchers to draw reliable and objective conclusions based on the data.\n",
    "\n",
    "2. Helps to reduce the risk of errors: By using statistical tests and predefined levels of significance, hypothesis testing helps to reduce the risk of making false positive or false negative errors, which can lead to incorrect conclusions.\n",
    "\n",
    "3. Facilitates decision-making: Hypothesis testing enables researchers to make informed decisions based on the evidence provided by the data. For example, it can be used to determine whether a new product or process is more effective than an existing one, or whether a new policy or practice is having a significant impact.\n",
    "\n",
    "4. Enables comparisons: Hypothesis testing allows researchers to compare different groups or treatments, and to assess whether there are significant differences between them. This can help to identify factors that are contributing to a particular outcome or phenomenon."
   ]
  },
  {
   "cell_type": "code",
   "execution_count": null,
   "id": "18be03b0-10c7-46be-b302-fb13d6d3ceb5",
   "metadata": {},
   "outputs": [],
   "source": []
  },
  {
   "cell_type": "markdown",
   "id": "294e3825-14d4-4d28-8eb5-f064759952c8",
   "metadata": {},
   "source": [
    "# Q4. Create a hypothesis that states whether the average weight of male college students is greater than the average weight of female college students."
   ]
  },
  {
   "cell_type": "markdown",
   "id": "d0536543-5f81-4b34-a884-d568403b369c",
   "metadata": {},
   "source": [
    "* Null Hypothesis (Ho) -  The average weight of male college students is not greater than the average weight of female college students.\n",
    "\n",
    "* Alternate Hypothesis (H1) - The average weight of male college students is greater than the average weight of female college students.\n",
    "\n",
    "The null hypothesis assumes that there is no significant difference in weight between male and female college students.\n",
    "\n",
    "The alternative hypothesis assumes that there is a significant difference in weight, and specifically that male college students have a higher average weight than female college students."
   ]
  },
  {
   "cell_type": "code",
   "execution_count": null,
   "id": "20d49092-8a68-4d1a-a8e1-73089edab2a8",
   "metadata": {},
   "outputs": [],
   "source": []
  },
  {
   "cell_type": "markdown",
   "id": "f536d06d-0a21-4652-a5ae-9f7aedc9402b",
   "metadata": {},
   "source": [
    "# Q5. Write a Python script to conduct a hypothesis test on the difference between two population means, given a sample from each population."
   ]
  },
  {
   "cell_type": "code",
   "execution_count": 25,
   "id": "183820ac-57a0-43c9-ae96-c9d1da29c7c8",
   "metadata": {},
   "outputs": [
    {
     "name": "stdout",
     "output_type": "stream",
     "text": [
      "ACCEPT REJECT\n",
      "CONCLUSION : The population means of the two samples are EQUAL\n"
     ]
    }
   ],
   "source": [
    "import math\n",
    "import scipy.stats as stat\n",
    "import numpy as np\n",
    "\n",
    "# suppose\n",
    "sample1 = [1,2,3,4,5,6,7,8]\n",
    "sample2 = [3,4,3,2,4,7,1,2]\n",
    "\n",
    "# so\n",
    "n1 = len(sample1)\n",
    "n2 = len(sample2)\n",
    "sample1_mean = np.mean(sample1)\n",
    "sample2_mean = np.mean(sample2)\n",
    "std1 = np.std(sample1)\n",
    "std2 = np.std(sample2)\n",
    "dof = (n1 + n2)-2\n",
    "alpha = 0.05\n",
    "\n",
    "# Now\n",
    "null_hypothesis = \"The population means of the two samples are EQUAL\"\n",
    "alt_hypothesis = \"The population mean of sample 1 and sample 2 are NOT Equal\"\n",
    "\n",
    "# Now t statistic value\n",
    "t_stat = (sample1_mean - sample2_mean) / math.sqrt((std1**2/n1) + (std2**2/n2))\n",
    "\n",
    "# Now t_critical value\n",
    "t_critical = stat.t.ppf(1-alpha,dof)\n",
    "\n",
    "#comparing\n",
    "if t_stat > t_critical:\n",
    "    print('NULL REJECT')\n",
    "    print('CONCLUSION :',alt_hypothesis)\n",
    "else:\n",
    "    print('ACCEPT REJECT')\n",
    "    print('CONCLUSION :',null_hypothesis)"
   ]
  },
  {
   "cell_type": "code",
   "execution_count": null,
   "id": "24e73c32-89a6-42e2-8076-3241d63baa29",
   "metadata": {},
   "outputs": [],
   "source": []
  },
  {
   "cell_type": "markdown",
   "id": "b6b6e882-66b9-4bdc-b40d-22e2fa7a393b",
   "metadata": {},
   "source": [
    "# Q6: What is a null and alternative hypothesis? Give some examples."
   ]
  },
  {
   "cell_type": "markdown",
   "id": "717561e2-300a-4199-a613-82ebdfdb4d69",
   "metadata": {},
   "source": [
    "### In statistical hypothesis testing, the null hypothesis (denoted as H0) is a statement that assumes there is no significant difference between two or more variables, or that a proposed relationship does not exist between variables.\n",
    "\n",
    "### The alternative hypothesis (denoted as Ha or H1) is a statement that contradicts the null hypothesis and claims that there is a significant difference between variables or a proposed relationship does exist.\n",
    "\n",
    "### Examples of null and alternative hypotheses are:\n",
    "1. \n",
    "* Null Hypothesis: The average age of customers who buy product A and product B is the same. \n",
    "* Alternative Hypothesis: The average age of customers who buy product A is different from the average age of customers who buy product B.\n",
    "\n",
    "2. \n",
    "* Null Hypothesis: The new drug has no effect on blood pressure. \n",
    "* Alternative Hypothesis: The new drug reduces blood pressure.\n",
    "\n",
    "3. \n",
    "* Null Hypothesis: There is no relationship between education level and job satisfaction. \n",
    "* Alternative Hypothesis: Higher education levels are associated with higher job satisfaction.\n",
    "\n",
    "4. \n",
    "* Null Hypothesis: The mean weight of male and female students is the same. \n",
    "* Alternative Hypothesis: The mean weight of male students is greater than the mean weight of female students.\n",
    "\n",
    "5.\n",
    "* Null Hypothesis: The proportion of voters who support Candidate A is the same as the proportion who support Candidate B. \n",
    "* Alternative Hypothesis: The proportion of voters who support Candidate A is different from the proportion who support Candidate B."
   ]
  },
  {
   "cell_type": "code",
   "execution_count": null,
   "id": "68cb8791-a39c-4110-b5d1-28cc4e8d21ed",
   "metadata": {},
   "outputs": [],
   "source": []
  },
  {
   "cell_type": "markdown",
   "id": "f8835836-ac3b-4b5a-9752-273dd3dd1496",
   "metadata": {},
   "source": [
    "# Q7: Write down the steps involved in hypothesis testing."
   ]
  },
  {
   "cell_type": "markdown",
   "id": "78bf2d03-b81c-4e01-8bd9-78f5015539da",
   "metadata": {},
   "source": [
    "The following are the general steps involved in hypothesis testing:\n",
    "\n",
    "1. State the null hypothesis (H0) and the alternative hypothesis (H1):\n",
    "\n",
    "* The null hypothesis is typically the default assumption and the alternative hypothesis is the opposite or the proposed change.\n",
    "\n",
    "2. Choose the level of significance (alpha):\n",
    "\n",
    "* This is the probability of rejecting the null hypothesis when it is actually true. The most commonly used level of significance is 0.05, which means that there is a 5% chance of rejecting the null hypothesis when it is true.\n",
    "\n",
    "3. Select the appropriate statistical test\n",
    "\n",
    "* The choice of statistical test depends on the type of data, the research question, and the hypothesis being tested. Common statistical tests include t-tests, ANOVA, chi-square tests, and regression analysis.\n",
    "\n",
    "4. Collect and analyze data\n",
    "\n",
    "* Data is collected from a sample of the population and analyzed using the chosen statistical test. The results are used to calculate a test statistic and a p-value.\n",
    "\n",
    "5. Interpret the results\n",
    "\n",
    "* The test statistic and p-value are used to determine whether to reject or fail to reject the null hypothesis. If the p-value is less than the level of significance (alpha), the null hypothesis is rejected. If the p-value is greater than the level of significance, the null hypothesis is not rejected.\n",
    "\n",
    "6. Draw conclusions\n",
    "\n",
    "* Based on the results, conclusions are drawn about the population being studied. If the null hypothesis is rejected, the alternative hypothesis is accepted and a conclusion is drawn accordingly. If the null hypothesis is not rejected, no significant difference is found, and a conclusion is drawn accordingly."
   ]
  },
  {
   "cell_type": "code",
   "execution_count": null,
   "id": "d958fc74-050a-406f-9674-2bb5e81c9faa",
   "metadata": {},
   "outputs": [],
   "source": []
  },
  {
   "cell_type": "markdown",
   "id": "9549f118-cc9f-48cd-8276-56cf76395480",
   "metadata": {},
   "source": [
    "# Q8. Define p-value and explain its significance in hypothesis testing."
   ]
  },
  {
   "cell_type": "markdown",
   "id": "5ce9ac0a-db06-4dfa-a4c5-9e6dc5fd7d20",
   "metadata": {},
   "source": [
    "In Statistical hypothesis testing, the P-value or sometimes called probability value, is used to observe the test results or more extreme results by assuming that the null hypothesis (H0) is true.\n",
    "\n",
    "P-value is also used as an alternative to determine the point of rejection in order to provide the smallest significance level at which the null hypothesis is least or rejected.\n",
    "\n",
    "It is expressed as the level of significance that lies between 0 and 1, and if there is smaller p-value, then there would be strong evidence to reject the null hypothesis. If the value of p-value is very small, then it means the observed output is feasible but doesn't lie under the null hypothesis conditions (H0).\n",
    "\n",
    "The p-value of 0.05 is known as the level of significance (α).\n",
    "\n",
    "Usually, it is considered using two suggestions, which are given below:\n",
    "\n",
    "* If p-value>0.05: The large p-value shows that the null hypothesis needs to be accepted.\n",
    "* If p-value<0.05: The small p-value shows that the null hypothesis needs to be rejected, and the result is declared as statically significant."
   ]
  },
  {
   "cell_type": "code",
   "execution_count": null,
   "id": "fa8d51d3-3835-4c5b-965e-b083232e5e4e",
   "metadata": {},
   "outputs": [],
   "source": []
  },
  {
   "cell_type": "markdown",
   "id": "4dc35e58-5dad-4bd9-8b58-82e3becad90c",
   "metadata": {},
   "source": [
    "# Q9. Generate a Student's t-distribution plot using Python's matplotlib library, with the degrees of freedom parameter set to 10."
   ]
  },
  {
   "cell_type": "code",
   "execution_count": 58,
   "id": "9e7a0b12-ff04-42c1-a7f8-13c1a8f1243b",
   "metadata": {},
   "outputs": [
    {
     "data": {
      "image/png": "[encoded data removed]",
      "text/plain": [
       "<Figure size 640x480 with 1 Axes>"
      ]
     },
     "metadata": {},
     "output_type": "display_data"
    }
   ],
   "source": [
    "import numpy as np\n",
    "import matplotlib.pyplot as plt\n",
    "from scipy.stats import t\n",
    "\n",
    "df = 10 # degrees of freedom\n",
    "\n",
    "x = np.linspace(-10, 5, 100)\n",
    "y = t.pdf(x, df)\n",
    "\n",
    "plt.plot(x, y)\n",
    "plt.title(\"Student's t-distribution (df=10)\")\n",
    "plt.xlabel('t-values')\n",
    "plt.ylabel('Probability Density')\n",
    "\n",
    "plt.show()\n"
   ]
  },
  {
   "cell_type": "code",
   "execution_count": null,
   "id": "ecf1a824-98cc-4635-8659-21a281521409",
   "metadata": {},
   "outputs": [],
   "source": []
  },
  {
   "attachments": {
    "2e44ed16-fdab-4254-866b-e22f8d4812a3.png": {
     "image/png": "[encoded data removed]"
    }
   },
   "cell_type": "markdown",
   "id": "bee33201-1712-4dad-bd41-11afbe807e17",
   "metadata": {},
   "source": [
    "# Q10. Write a Python program to calculate the two-sample t-test for independent samples, given two random samples of equal size and a null hypothesis that the population means are equal.\n",
    "\n",
    "\n",
    "### we using this formula for calculating t-test value for two-samples.\n",
    "![image.png](attachment:2e44ed16-fdab-4254-866b-e22f8d4812a3.png)"
   ]
  },
  {
   "cell_type": "code",
   "execution_count": 63,
   "id": "cec11a15-348f-4605-a887-8a75987a85fb",
   "metadata": {},
   "outputs": [
    {
     "name": "stdout",
     "output_type": "stream",
     "text": [
      "two sample t_test value is 2.469323991623974\n"
     ]
    }
   ],
   "source": [
    "# we have,\n",
    "\n",
    "# sample 1\n",
    "n1 = 40\n",
    "sample1_mean = 80\n",
    "sample1_std = 10\n",
    "\n",
    "# sample2\n",
    "n2 = 40\n",
    "sample2_mean = 75\n",
    "sample2_std = 8\n",
    "\n",
    "alpha = 0.01\n",
    "\n",
    "import scipy.stats as stat\n",
    "import math\n",
    "\n",
    "### Now t-test value\n",
    "# Putting in above formula\n",
    "t_test = (sample1_mean - sample2_mean) / math.sqrt((sample1_std**2/n1) + (sample2_std**2/n2))\n",
    "\n",
    "print('two sample t_test value is',t_test)"
   ]
  },
  {
   "cell_type": "code",
   "execution_count": null,
   "id": "b363c828-1ea4-4aa7-84a2-5b81b24220c0",
   "metadata": {},
   "outputs": [],
   "source": []
  },
  {
   "cell_type": "markdown",
   "id": "cfba9a30-9dd0-4920-ace7-4e8b76220746",
   "metadata": {},
   "source": [
    "# Q11: What is Student’s t distribution? When to use the t-Distribution."
   ]
  },
  {
   "cell_type": "markdown",
   "id": "fee12ead-8792-47bb-96af-2f946f5453a6",
   "metadata": {},
   "source": [
    "Student’s t-distribution or t-distribution is a probability distribution that is used to calculate population parameters when the sample size is small and when the population variance is unknown. Theoretical work on t-distribution was done by W.S. Gosset; he has published his findings under the pen name “Student“. That’s why it is called as Student’s t-test. \n",
    "\n",
    "It is the sampling distribution of the t-statistic. The values of the t-statistic is given by: \n",
    "\n",
    " \n",
    "\n",
    "t = [ x̄ - μ ] / [ s / sqrt( n ) ]\n",
    "\n",
    "where,\n",
    "t = t score\n",
    "x̄ = sample mean,\n",
    "μ = population mean,\n",
    "s = standard deviation of the sample,\n",
    "n = sample size \n",
    "\n",
    "Student’s t Distribution is used when: \n",
    "\n",
    "* The sample size must be 30 or less than 30.\n",
    "* The population standard deviation(σ) is unknown.\n",
    "* The population distribution must be unimodal and skewed."
   ]
  },
  {
   "cell_type": "code",
   "execution_count": null,
   "id": "958c73ec-5191-42e8-af74-455e00223734",
   "metadata": {},
   "outputs": [],
   "source": []
  },
  {
   "cell_type": "markdown",
   "id": "f89e6074-da45-4766-8437-a338e2e37858",
   "metadata": {},
   "source": [
    "# Q12: What is t-statistic? State the formula for t-statistic."
   ]
  },
  {
   "cell_type": "markdown",
   "id": "cf37cea7-e163-48a7-b66b-0013012e1fc9",
   "metadata": {},
   "source": [
    "The t-statistic is a test statistic that is used in hypothesis testing and confidence interval estimation when the population standard deviation is unknown and the sample size is small. It is a standardized measure of the difference between the sample mean and the hypothesized population mean, in units of the sample standard deviation.\n",
    "\n",
    "t = [ x̄ - μ ] / [ s / sqrt( n ) ]\n",
    "\n",
    "where, t = t score x̄ = sample mean, μ = population mean, s = standard deviation of the sample, n = sample size\n",
    "\n",
    "The formula shows that the t-statistic is the difference between the sample mean and hypothesized population mean, standardized by the standard error of the mean, which is the sample standard deviation divided by the square root of the sample size."
   ]
  },
  {
   "cell_type": "code",
   "execution_count": null,
   "id": "b2f5cbe3-1e1a-4a5b-a6e0-cd1749ec168c",
   "metadata": {},
   "outputs": [],
   "source": []
  },
  {
   "cell_type": "markdown",
   "id": "6c0b6c72-e971-4575-9c34-b5df328853fd",
   "metadata": {},
   "source": [
    "# Q13. A coffee shop owner wants to estimate the average daily revenue for their shop. They take a random sample of 50 days and find the sample mean revenue to be $500 with a standard deviation of $ 50 . Estimate the population mean revenue with a 95% confidence interval."
   ]
  },
  {
   "cell_type": "code",
   "execution_count": 21,
   "id": "6e7081d8-de19-4135-b0ed-a70ed80a8da8",
   "metadata": {},
   "outputs": [
    {
     "name": "stdout",
     "output_type": "stream",
     "text": [
      "The Estimate population mean revenue is between 486.1409617565032 and 513.8590382434968 at 95% Confidence level\n"
     ]
    }
   ],
   "source": [
    "import scipy.stats as stat\n",
    "import math\n",
    "\n",
    "# we have\n",
    "n = 50\n",
    "sample_mean = 500 \n",
    "sample_std = 50\n",
    "CI = 0.95\n",
    "alpha = 1-0.95\n",
    "\n",
    "# now we have to define upper CI and lower CI\n",
    "# for that\n",
    "# we using z-test CI formula:\n",
    "\n",
    "###    x̄ ± Zα/2 * (σ / sqrt(n))\n",
    "\n",
    "# Now for Zα/2 which is z-critical value for 2 tail:\n",
    "z_critical = stat.norm.ppf(1-alpha/2)\n",
    "\n",
    "# Now we just putting terms in our formula for upper bound and lower boung\n",
    "\n",
    "lower_CI = sample_mean - z_critical * sample_std / math.sqrt(n)\n",
    "Upper_CI = sample_mean + z_critical * sample_std / math.sqrt(n)\n",
    "\n",
    "print(f\"The Estimate population mean revenue is between {lower_CI} and {Upper_CI} at 95% Confidence level\")"
   ]
  },
  {
   "cell_type": "code",
   "execution_count": null,
   "id": "8a164e38-766d-4582-956a-1debc3c1f028",
   "metadata": {},
   "outputs": [],
   "source": []
  },
  {
   "cell_type": "markdown",
   "id": "b591bf89-448f-4212-924f-e5f4b9ec7f09",
   "metadata": {},
   "source": [
    "# Q14. A researcher hypothesizes that a new drug will decrease blood pressure by 10 mmHg. They conduct a clinical trial with 100 patients and find that the sample mean decrease in blood pressure is 8 mmHg with a standard deviation of 3 mmHg. Test the hypothesis with a significance level of 0.05."
   ]
  },
  {
   "cell_type": "markdown",
   "id": "bd05f2b0-39b1-4800-b114-6242b0bb9f14",
   "metadata": {},
   "source": [
    "#### 1st method -- by finding critical"
   ]
  },
  {
   "cell_type": "code",
   "execution_count": 66,
   "id": "72b0ad0f-4212-4070-a518-45abc920efa8",
   "metadata": {},
   "outputs": [
    {
     "name": "stdout",
     "output_type": "stream",
     "text": [
      " REJECT NULL because p_value:0.0227501319481791 is less than significance value:0.05\n",
      "Conclusion: The true mean decrease in blood pressure is less than 10 mmHg\n"
     ]
    }
   ],
   "source": [
    "\n",
    "# we have\n",
    "pop_mean = 10\n",
    "n = 100\n",
    "sample_mean = 8\n",
    "sample_std = 3\n",
    "alpha = 0.05\n",
    "# so\n",
    "dof = n-1\n",
    "CI = 1-0.05\n",
    "\n",
    "# We using t-test here because population std not given\n",
    "\n",
    "import scipy.stats as stat\n",
    "import math\n",
    "import numpy as np\n",
    "\n",
    "null_hypothesis = \"The true mean decrease in blood pressure is equal to 10 mmHg\"\n",
    "alternative_hypothesis = \"The true mean decrease in blood pressure is less than 10 mmHg\"\n",
    "\n",
    "# Firstly \n",
    "# t-test value\n",
    "t_value = (sample_mean - pop_mean) / (sample_std / math.sqrt(n))\n",
    "\n",
    "# t-critical\n",
    "t_critical  = stat.t.ppf(alpha,df=dof)\n",
    "\n",
    "\n",
    "if t_value < t_critical:\n",
    "    print(f\" REJECT NULL because p_value:{p_value} is less than significance value:{alpha}\")\n",
    "    print('Conclusion:',alternative_hypothesis )\n",
    "else:\n",
    "    print(f\" ACCEPT NULL because p_value:{p_value} is greater than significance value:{alpha}\")\n",
    "    print('Conclusion :',null_hypothesis)"
   ]
  },
  {
   "cell_type": "code",
   "execution_count": 67,
   "id": "f9a62f5b-5597-44a3-bdc7-72c9aadc2aa3",
   "metadata": {},
   "outputs": [
    {
     "data": {
      "text/plain": [
       "-1.6603911559963902"
      ]
     },
     "execution_count": 67,
     "metadata": {},
     "output_type": "execute_result"
    }
   ],
   "source": [
    "t_critical"
   ]
  },
  {
   "cell_type": "code",
   "execution_count": 68,
   "id": "2eb0198a-3146-41b8-87f7-91b6cf4e378a",
   "metadata": {},
   "outputs": [
    {
     "data": {
      "text/plain": [
       "-6.666666666666667"
      ]
     },
     "execution_count": 68,
     "metadata": {},
     "output_type": "execute_result"
    }
   ],
   "source": [
    "t_value"
   ]
  },
  {
   "cell_type": "markdown",
   "id": "7b6c2bc6-48f5-4e3e-8bce-0671a07470a9",
   "metadata": {},
   "source": [
    "### 2nd method -- by finding p-value"
   ]
  },
  {
   "cell_type": "code",
   "execution_count": 31,
   "id": "ba8734a3-9fed-431d-b91b-579eb947530f",
   "metadata": {},
   "outputs": [
    {
     "name": "stdout",
     "output_type": "stream",
     "text": [
      " REJECT NULL because p_value:7.506144504985108e-10 is less than significance value:0.05\n",
      "Conclusion: The true mean decrease in blood pressure is less than 10 mmHg\n"
     ]
    }
   ],
   "source": [
    "# we have\n",
    "pop_mean = 10\n",
    "n = 100\n",
    "sample_mean = 8\n",
    "sample_std = 3\n",
    "alpha = 0.05\n",
    "# so\n",
    "dof = n-1\n",
    "CI = 1-0.05\n",
    "\n",
    "import scipy.stats as stat\n",
    "import math\n",
    "import numpy as np\n",
    "\n",
    "null_hypothesis = \"The true mean decrease in blood pressure is equal to 10 mmHg\"\n",
    "alternative_hypothesis = \"The true mean decrease in blood pressure is less than 10 mmHg\"\n",
    "\n",
    "# Firstly \n",
    "# t-test value\n",
    "t_value = (sample_mean - pop_mean) / (sample_std / math.sqrt(n))\n",
    "\n",
    "# p-value\n",
    "p_value = stat.t.cdf(t_value,df=dof)\n",
    "\n",
    "\n",
    "if p_value < alpha:\n",
    "    print(f\" REJECT NULL because p_value:{p_value} is less than significance value:{alpha}\")\n",
    "    print('Conclusion:',alternative_hypothesis )\n",
    "else:\n",
    "    print(f\" ACCEPT NULL because p_value:{p_value} is greater than significance value:{alpha}\")\n",
    "    print('Conclusion :',null_hypothesis)"
   ]
  },
  {
   "cell_type": "code",
   "execution_count": 32,
   "id": "f67d824f-abed-4237-b922-bbed9f6b6eff",
   "metadata": {},
   "outputs": [
    {
     "data": {
      "text/plain": [
       "7.506144504985108e-10"
      ]
     },
     "execution_count": 32,
     "metadata": {},
     "output_type": "execute_result"
    }
   ],
   "source": [
    "p_value"
   ]
  },
  {
   "cell_type": "code",
   "execution_count": 33,
   "id": "ecfc819c-198d-489d-82fd-d7724c6cced7",
   "metadata": {},
   "outputs": [
    {
     "data": {
      "text/plain": [
       "0.05"
      ]
     },
     "execution_count": 33,
     "metadata": {},
     "output_type": "execute_result"
    }
   ],
   "source": [
    "alpha"
   ]
  },
  {
   "cell_type": "code",
   "execution_count": null,
   "id": "4755381c-54a5-4fa1-9477-3259775c0397",
   "metadata": {},
   "outputs": [],
   "source": []
  },
  {
   "cell_type": "markdown",
   "id": "15d3c14d-eaa4-4a24-bd4a-02ff6cb33ba9",
   "metadata": {},
   "source": [
    "# Q15. An electronics company produces a certain type of product with a mean weight of 5 pounds and a standard deviation of 0.5 pounds. A random sample of 25 products is taken, and the sample mean weight is found to be 4.8 pounds. Test the hypothesis that the true mean weight of the products is less than 5 pounds with a significance level of 0.01."
   ]
  },
  {
   "cell_type": "code",
   "execution_count": 41,
   "id": "c0f472e3-4625-4975-9f4b-3693b9b297ed",
   "metadata": {},
   "outputs": [
    {
     "name": "stdout",
     "output_type": "stream",
     "text": [
      "NULL ACCEPT because p_value:0.0227501319481791 is greater than significance value:0.01\n",
      "CONCLUSION :The true mean weight of the products is equal to 5 pounds\n"
     ]
    }
   ],
   "source": [
    "# we have\n",
    "pop_mean = 5\n",
    "pop_std = 0.5\n",
    "n = 25\n",
    "sample_mean = 4.8\n",
    "alpha = 0.01\n",
    "CI = 1 - 0.01\n",
    "\n",
    "# firstly\n",
    "Null_hypothesis = 'the true mean weight of the products is equal to 5 pounds'\n",
    "Alternatie_hypothesis = 'the true mean weight of the products is less than 5 pounds '\n",
    "\n",
    "import scipy.stats as stat\n",
    "import math\n",
    "\n",
    "# we solve yhis problem using z-test\n",
    "z_test = (sample_mean - pop_mean) / (pop_std / math.sqrt(n) )\n",
    "\n",
    "# Now finding p-value \n",
    "p_value = stat.norm.cdf(z_test)\n",
    "\n",
    "# Now compare\n",
    "\n",
    "if p_value < alpha:\n",
    "    print(f\"NULL REJECT because p_value:{p_value} is less than significance value:{alpha}\")\n",
    "    print('CONCLUSION :The true mean weight of the products is less than 5 pounds')\n",
    "else:\n",
    "    print(f\"NULL ACCEPT because p_value:{p_value} is greater than significance value:{alpha}\")\n",
    "    print('CONCLUSION :The true mean weight of the products is equal to 5 pounds')"
   ]
  },
  {
   "cell_type": "code",
   "execution_count": 42,
   "id": "9287d22c-728d-4a31-b96d-d0b9d9a107c7",
   "metadata": {},
   "outputs": [
    {
     "data": {
      "text/plain": [
       "0.0227501319481791"
      ]
     },
     "execution_count": 42,
     "metadata": {},
     "output_type": "execute_result"
    }
   ],
   "source": [
    "p_value"
   ]
  },
  {
   "cell_type": "markdown",
   "id": "03848248-ab94-43dd-93d0-e7df8072ef35",
   "metadata": {},
   "source": [
    "# Q16. Two groups of students are given different study materials to prepare for a test. The first group (n1 =30) has a mean score of 80 with a standard deviation of 10, and the second group (n2 = 40) has a mean score of 75 with a standard deviation of 8. Test the hypothesis that the population means for the two groups are equal with a significance level of 0.01."
   ]
  },
  {
   "attachments": {
    "73f742df-603c-47eb-9dc9-db581470bfca.png": {
     "image/png": "[encoded data removed]"
    }
   },
   "cell_type": "markdown",
   "id": "06935537-9f8e-4abc-ab1d-35bf1ad90569",
   "metadata": {},
   "source": [
    "#### we use this formula for 2 sample groups using t-test\n",
    "![image.png](attachment:73f742df-603c-47eb-9dc9-db581470bfca.png)"
   ]
  },
  {
   "cell_type": "code",
   "execution_count": 50,
   "id": "b09999b4-f1bf-4b39-abe6-c1df079b40e3",
   "metadata": {},
   "outputs": [
    {
     "name": "stdout",
     "output_type": "stream",
     "text": [
      " ACCEPT NULL because t_value:2.2511258444537408 is less than t_critical value:2.3824458008642413\n",
      "CONCLUSION : The population means for the two groups are EQUAL\n"
     ]
    }
   ],
   "source": [
    "# we have,\n",
    "\n",
    "# sample 1\n",
    "n1 = 30\n",
    "sample1_mean = 80\n",
    "sample1_std = 10\n",
    "\n",
    "# sample2\n",
    "n2 = 40\n",
    "sample2_mean = 75\n",
    "sample2_std = 8\n",
    "\n",
    "alpha = 0.01\n",
    "\n",
    "# Firstly \n",
    "Null_hypothesis = \"The population means for the two groups are EQUAL\"\n",
    "Alternative_hypothesis = \"The population means for the two groups are NOT EQUAL.\"\n",
    "\n",
    "### We use t-test for 2-sample\n",
    "\n",
    "# degree of freedom\n",
    "dof = n1 + n2 - 2\n",
    "\n",
    "## Now t-critical value\n",
    "t_critical = stat.t.ppf(1-alpha,dof)\n",
    "\n",
    "import scipy.stats as stat\n",
    "import math\n",
    "\n",
    "### Now t-test value\n",
    "# Putting in above formula\n",
    "t_test = (sample1_mean - sample2_mean) / math.sqrt((sample1_std**2/n1) + (sample2_std**2/n2))\n",
    "\n",
    "# Now just compare\n",
    "\n",
    "if  t_test > t_critical:\n",
    "    print(f\" REJECT NULL because t_value:{t_test} is greater than t_critical value:{t_critical}\")\n",
    "    print('CONCLUSION : The population means for the two groups are NOT EQUAL. ' )\n",
    "else:\n",
    "    print(f\" ACCEPT NULL because t_value:{t_test} is less than t_critical value:{t_critical}\")\n",
    "    print('CONCLUSION : The population means for the two groups are EQUAL')"
   ]
  },
  {
   "cell_type": "code",
   "execution_count": 51,
   "id": "56d3c8ad-46e2-4179-9078-ae807dde642f",
   "metadata": {},
   "outputs": [
    {
     "data": {
      "text/plain": [
       "2.2511258444537408"
      ]
     },
     "execution_count": 51,
     "metadata": {},
     "output_type": "execute_result"
    }
   ],
   "source": [
    "t_test"
   ]
  },
  {
   "cell_type": "code",
   "execution_count": 52,
   "id": "f1e30ab1-1307-4976-9811-b619361f9880",
   "metadata": {},
   "outputs": [
    {
     "data": {
      "text/plain": [
       "2.3824458008642413"
      ]
     },
     "execution_count": 52,
     "metadata": {},
     "output_type": "execute_result"
    }
   ],
   "source": [
    "t_critical"
   ]
  },
  {
   "cell_type": "code",
   "execution_count": null,
   "id": "f7a7dd48-096f-4118-8bf2-e43f09ea7089",
   "metadata": {},
   "outputs": [],
   "source": []
  },
  {
   "cell_type": "markdown",
   "id": "ccb487f2-1e71-4dce-b093-cc4792063520",
   "metadata": {},
   "source": [
    "# Q17. A marketing company wants to estimate the average number of ads watched by viewers during a TV program. They take a random sample of 50 viewers and find that the sample mean is 4 with a standard deviation of 1.5. Estimate the population mean with a 99% confidence interval."
   ]
  },
  {
   "cell_type": "code",
   "execution_count": 39,
   "id": "09030358-f3c5-474e-aa14-b60f31c99c8c",
   "metadata": {},
   "outputs": [
    {
     "name": "stdout",
     "output_type": "stream",
     "text": [
      "The average number of ads watched by viewers during a TV program is between 3.4314963358572577 and 4.568503664142742at 99% Confidence level\n"
     ]
    }
   ],
   "source": [
    "# we use t-test confidence interval formula:\n",
    "\n",
    "### CI = X̄ ± t*(s/√n)\n",
    "\n",
    "# Where:\n",
    "\n",
    "# X̄ is the sample mean\n",
    "# t* is the critical value of the t-distribution \n",
    "# s is the sample standard deviation\n",
    "# n is the sample size\n",
    "\n",
    "import scipy.stats as stat\n",
    "import math\n",
    "\n",
    "# we have,\n",
    "n = 50\n",
    "sample_mean = 4\n",
    "sample_std = 1.5\n",
    "CI = 0.99\n",
    "alpha = 1-0.99\n",
    "dof = n-1\n",
    "\n",
    "## Now,\n",
    "t_value = stat.t.ppf(alpha/2,dof)\n",
    "\n",
    "## Putting values in formula for upper bound and lower bound\n",
    "upper_CI = sample_mean + t_value*(sample_std/math.sqrt(n))\n",
    "lower_CI = sample_mean - t_value*(sample_std/math.sqrt(n))\n",
    "\n",
    "print(f\"The average number of ads watched by viewers during a TV program is between {upper_CI} and {lower_CI}at 99% Confidence level\")"
   ]
  },
  {
   "cell_type": "code",
   "execution_count": null,
   "id": "479ec45d-4492-40ef-8d46-a44cc673d182",
   "metadata": {},
   "outputs": [],
   "source": []
  },
  {
   "cell_type": "code",
   "execution_count": null,
   "id": "8d79b041-ca04-4700-941a-a29247680957",
   "metadata": {},
   "outputs": [],
   "source": []
  }
 ],
 "metadata": {
  "kernelspec": {
   "display_name": "Python 3 (ipykernel)",
   "language": "python",
   "name": "python3"
  },
  "language_info": {
   "codemirror_mode": {
    "name": "ipython",
    "version": 3
   },
   "file_extension": ".py",
   "mimetype": "text/x-python",
   "name": "python",
   "nbconvert_exporter": "python",
   "pygments_lexer": "ipython3",
   "version": "3.10.6"
  }
 },
 "nbformat": 4,
 "nbformat_minor": 5
}
