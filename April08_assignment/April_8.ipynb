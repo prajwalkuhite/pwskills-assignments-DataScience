{
 "cells": [
  {
   "cell_type": "markdown",
   "id": "51f82218-6bbd-431f-abc6-253c854fd8b0",
   "metadata": {},
   "source": [
    "# Q1. In order to predict house price based on several characteristics, such as location, square footage, number of bedrooms, etc., you are developing an SVM regression model. Which regression metric in this situation would be the best to employ?"
   ]
  },
  {
   "cell_type": "markdown",
   "id": "b706ba17-967f-428b-abb3-a3ebac680fcd",
   "metadata": {},
   "source": [
    "When developing an SVM regression model to predict house prices based on several characteristics, the choice of regression metric would depend on the specific requirements of the problem and the characteristics of the dataset.\n",
    "\n",
    "Here are some regression metrics that could be used to evaluate the performance of the SVM regression model:\n",
    "\n",
    "1. Mean Absolute Error (MAE): This metric measures the average absolute difference between the predicted and actual values. It is useful when the dataset contains outliers that may affect the performance of other metrics. A lower MAE value indicates better performance.\n",
    "\n",
    "2. Mean Squared Error (MSE): This metric measures the average squared difference between the predicted and actual values. It penalizes larger errors more heavily than smaller errors. A lower MSE value indicates better performance.\n",
    "\n",
    "3. Root Mean Squared Error (RMSE): This metric is similar to MSE but takes the square root of the MSE to make the units of the error metric the same as the target variable. It is useful when the target variable has a specific unit, such as dollars for house prices. A lower RMSE value indicates better performance.\n",
    "\n",
    "4. R-squared (R2): This metric measures the proportion of the variance in the target variable that is explained by the model. It ranges from 0 to 1, with higher values indicating better performance. R2 can be useful for comparing the performance of different models.\n",
    "\n",
    "5. R-squared adjusted: The R2_adj metric penalizes the inclusion of unnecessary predictor variables that do not contribute significantly to the model's performance. It is useful for preventing overfitting and providing a more accurate measure of the model's performance.\n",
    "\n",
    "The R2_adj is calculated using the formula:\n",
    "\n",
    "R2_adj = 1 - [(1 - R2) * (n - 1) / (n - k - 1)]\n",
    "\n",
    "In general, MAE, MSE, and RMSE are commonly used regression metrics that are easy to interpret and compare across different models. R2 can also be useful for providing an overall measure of model performance. The specific choice of regression metric would depend on the requirements of the problem and the characteristics of the dataset."
   ]
  },
  {
   "cell_type": "code",
   "execution_count": null,
   "id": "c929f5dd-55b7-41b3-8774-7568eda5113f",
   "metadata": {},
   "outputs": [],
   "source": []
  },
  {
   "cell_type": "markdown",
   "id": "f49fecf5-5520-4e5b-ae3d-1acb03e6dd8e",
   "metadata": {},
   "source": [
    "# Q2. You have built an SVM regression model and are trying to decide between using MSE or R-squared as your evaluation metric. Which metric would be more appropriate if your goal is to predict the actual price of a house as accurately as possible?"
   ]
  },
  {
   "cell_type": "markdown",
   "id": "13666289-8cbc-42d0-a1fb-b09d924af4ac",
   "metadata": {},
   "source": [
    "If goal is to predict the actual price of a house as accurately as possible, then Mean Squared Error (MSE) would be a more appropriate evaluation metric to use than R-squared.\n",
    "\n",
    "MSE measures the average of the squared differences between the predicted and actual values. It penalizes large errors more heavily than small errors. In the context of predicting the price of a house, MSE would directly measure the difference between the predicted price and the actual price of the house, and a lower MSE value would indicate that the predictions are closer to the actual prices.\n",
    "\n",
    "R-squared, on the other hand, measures the proportion of variance in the dependent variable (i.e., the price of the house) that is explained by the independent variables (i.e., the features used in the model). While R-squared is a useful metric for understanding the proportion of variance explained by the model, it doesn't directly measure the accuracy of the predictions in terms of the actual price of the house.\n",
    "\n",
    "Therefore, if the goal is to predict the actual price of a house as accurately as possible, MSE would be the more appropriate evaluation metric to use."
   ]
  },
  {
   "cell_type": "code",
   "execution_count": null,
   "id": "1a36e841-9ddd-4fea-b647-6bc0735060f6",
   "metadata": {},
   "outputs": [],
   "source": []
  },
  {
   "cell_type": "markdown",
   "id": "2b1403e8-436b-4e38-a327-2d66cf766457",
   "metadata": {},
   "source": [
    "# Q3. You have a dataset with a significant number of outliers and are trying to select an appropriate regression metric to use with your SVM model. Which metric would be the most appropriate in this scenario?"
   ]
  },
  {
   "cell_type": "markdown",
   "id": "b6c645fb-d025-4117-90eb-7cd363da84b7",
   "metadata": {},
   "source": [
    "When dealing with a dataset that has a significant number of outliers, Mean Absolute Error (MAE) would be the most appropriate regression metric to use with an SVM model.\n",
    "\n",
    "MAE measures the average absolute difference between the predicted and actual values, regardless of the direction of the difference. It is less sensitive to outliers than Mean Squared Error (MSE) since it does not square the errors, which can give a lot of weight to large errors.\n",
    "\n",
    "In a dataset with a significant number of outliers, MSE can be heavily influenced by these outliers, leading to a higher value than what is representative of the majority of the data points. On the other hand, MAE gives equal weight to all errors and is less affected by outliers."
   ]
  },
  {
   "cell_type": "code",
   "execution_count": null,
   "id": "c9a83dd8-66d4-462b-a3c0-0824ed275936",
   "metadata": {},
   "outputs": [],
   "source": []
  },
  {
   "cell_type": "markdown",
   "id": "bd49202c-d31d-44b1-a3aa-1e8266c017fe",
   "metadata": {},
   "source": [
    "# Q4. You have built an SVM regression model using a polynomial kernel and are trying to select the best metric to evaluate its performance. You have calculated both MSE and RMSE and found that both values are very close. Which metric should you choose to use in this case?"
   ]
  },
  {
   "cell_type": "markdown",
   "id": "6afa88fa-2fc8-4aa0-b88a-e8c2ce8e6b32",
   "metadata": {},
   "source": [
    "If both Mean Squared Error (MSE) and Root Mean Squared Error (RMSE) values are very close, either metric can be used to evaluate the performance of the SVM regression model with a polynomial kernel.\n",
    "\n",
    "MSE measures the average of the squared differences between the predicted and actual values, while RMSE is the square root of the MSE. RMSE is useful because it gives a more interpretable measure of the error since it is in the same units as the dependent variable.\n",
    "\n",
    "Since both MSE and RMSE are very close, it is likely that the data points have similar scales and the distribution of errors is not skewed. In this case, either metric can be used to evaluate the performance of the SVM regression model.\n",
    "\n",
    "However, if the data points have different scales, RMSE may be a better choice as it normalizes the error by the scale of the dependent variable, making it easier to interpret. On the other hand, if the distribution of errors is skewed, MSE may be more appropriate since it is less sensitive to outliers than RMSE."
   ]
  },
  {
   "cell_type": "code",
   "execution_count": null,
   "id": "7cdeb532-beab-449f-a244-9cf91bd060b1",
   "metadata": {},
   "outputs": [],
   "source": []
  },
  {
   "cell_type": "markdown",
   "id": "ee3ebdf1-03a6-451e-bcca-57cec2295382",
   "metadata": {},
   "source": [
    "# Q5. You are comparing the performance of different SVM regression models using different kernels (linear, polynomial, and RBF) and are trying to select the best evaluation metric. Which metric would be most appropriate if your goal is to measure how well the model explains the variance in the target variable?"
   ]
  },
  {
   "cell_type": "markdown",
   "id": "53a33ea4-6afc-4822-ab95-97535744e4f9",
   "metadata": {},
   "source": [
    "If your goal is to measure how well the SVM regression model explains the variance in the target variable, then the most appropriate evaluation metric would be the Coefficient of Determination or R-squared (R²).\n",
    "\n",
    "The R² score measures the proportion of variance in the target variable that is explained by the model. It provides a measure of how well the model fits the data, with a value ranging from 0 to 1. A higher R² score indicates a better fit, with a score of 1 indicating a perfect fit.\n",
    "\n",
    "R² is a commonly used metric in regression analysis and is particularly useful when comparing the performance of different models with different kernels. Since R² measures how well the model explains the variance in the target variable, it allows you to compare models with different kernels based on their ability to fit the data.\n",
    "\n",
    "Therefore, if you are comparing the performance of different SVM regression models with different kernels and want to measure how well the models explain the variance in the target variable, R² would be the most appropriate evaluation metric."
   ]
  },
  {
   "cell_type": "code",
   "execution_count": null,
   "id": "7c5365f9-6666-4a5c-a67c-549384956e2f",
   "metadata": {},
   "outputs": [],
   "source": []
  }
 ],
 "metadata": {
  "kernelspec": {
   "display_name": "Python 3 (ipykernel)",
   "language": "python",
   "name": "python3"
  },
  "language_info": {
   "codemirror_mode": {
    "name": "ipython",
    "version": 3
   },
   "file_extension": ".py",
   "mimetype": "text/x-python",
   "name": "python",
   "nbconvert_exporter": "python",
   "pygments_lexer": "ipython3",
   "version": "3.10.6"
  }
 },
 "nbformat": 4,
 "nbformat_minor": 5
}
